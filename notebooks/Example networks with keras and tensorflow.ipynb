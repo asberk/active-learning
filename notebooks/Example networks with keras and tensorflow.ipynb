{
 "cells": [
  {
   "cell_type": "markdown",
   "metadata": {
    "toc": "true"
   },
   "source": [
    "# Table of Contents\n",
    " <p><div class=\"lev1 toc-item\"><a href=\"#Example-keras-model\" data-toc-modified-id=\"Example-keras-model-1\"><span class=\"toc-item-num\">1&nbsp;&nbsp;</span>Example <code>keras</code> model</a></div><div class=\"lev2 toc-item\"><a href=\"#Simple-as-can-be\" data-toc-modified-id=\"Simple-as-can-be-11\"><span class=\"toc-item-num\">1.1&nbsp;&nbsp;</span>Simple as can be</a></div><div class=\"lev2 toc-item\"><a href=\"#Adding-dropout-for-the-learning-phase\" data-toc-modified-id=\"Adding-dropout-for-the-learning-phase-12\"><span class=\"toc-item-num\">1.2&nbsp;&nbsp;</span>Adding dropout for the learning phase</a></div><div class=\"lev2 toc-item\"><a href=\"#Multilayer-convolutional-neural-network\" data-toc-modified-id=\"Multilayer-convolutional-neural-network-13\"><span class=\"toc-item-num\">1.3&nbsp;&nbsp;</span>Multilayer convolutional neural network</a></div><div class=\"lev3 toc-item\"><a href=\"#Set-up\" data-toc-modified-id=\"Set-up-131\"><span class=\"toc-item-num\">1.3.1&nbsp;&nbsp;</span>Set-up</a></div><div class=\"lev3 toc-item\"><a href=\"#weight-initialization\" data-toc-modified-id=\"weight-initialization-132\"><span class=\"toc-item-num\">1.3.2&nbsp;&nbsp;</span>weight initialization</a></div><div class=\"lev3 toc-item\"><a href=\"#Convolution-and-Pooling\" data-toc-modified-id=\"Convolution-and-Pooling-133\"><span class=\"toc-item-num\">1.3.3&nbsp;&nbsp;</span>Convolution and Pooling</a></div><div class=\"lev3 toc-item\"><a href=\"#First-convolutional-layer\" data-toc-modified-id=\"First-convolutional-layer-134\"><span class=\"toc-item-num\">1.3.4&nbsp;&nbsp;</span>First convolutional layer</a></div><div class=\"lev3 toc-item\"><a href=\"#Second-convolutional-layer\" data-toc-modified-id=\"Second-convolutional-layer-135\"><span class=\"toc-item-num\">1.3.5&nbsp;&nbsp;</span>Second convolutional layer</a></div><div class=\"lev3 toc-item\"><a href=\"#Densely-connected-layer\" data-toc-modified-id=\"Densely-connected-layer-136\"><span class=\"toc-item-num\">1.3.6&nbsp;&nbsp;</span>Densely connected layer</a></div><div class=\"lev3 toc-item\"><a href=\"#Dropout-layer\" data-toc-modified-id=\"Dropout-layer-137\"><span class=\"toc-item-num\">1.3.7&nbsp;&nbsp;</span>Dropout layer</a></div><div class=\"lev3 toc-item\"><a href=\"#Readout-layer\" data-toc-modified-id=\"Readout-layer-138\"><span class=\"toc-item-num\">1.3.8&nbsp;&nbsp;</span>Readout layer</a></div><div class=\"lev3 toc-item\"><a href=\"#Setting-up-training\" data-toc-modified-id=\"Setting-up-training-139\"><span class=\"toc-item-num\">1.3.9&nbsp;&nbsp;</span>Setting up training</a></div><div class=\"lev3 toc-item\"><a href=\"#Running-training\" data-toc-modified-id=\"Running-training-1310\"><span class=\"toc-item-num\">1.3.10&nbsp;&nbsp;</span>Running training</a></div><div class=\"lev2 toc-item\"><a href=\"#Multilayer-CNN-with-keras\" data-toc-modified-id=\"Multilayer-CNN-with-keras-14\"><span class=\"toc-item-num\">1.4&nbsp;&nbsp;</span>Multilayer CNN with <code>keras</code></a></div><div class=\"lev3 toc-item\"><a href=\"#Setting-up-data-generation-from-only-1000-images-from-each-class\" data-toc-modified-id=\"Setting-up-data-generation-from-only-1000-images-from-each-class-141\"><span class=\"toc-item-num\">1.4.1&nbsp;&nbsp;</span>Setting up data generation from only 1000 images from each class</a></div><div class=\"lev3 toc-item\"><a href=\"#Setting-up-the-network\" data-toc-modified-id=\"Setting-up-the-network-142\"><span class=\"toc-item-num\">1.4.2&nbsp;&nbsp;</span>Setting up the network</a></div><div class=\"lev3 toc-item\"><a href=\"#Initializing-training\" data-toc-modified-id=\"Initializing-training-143\"><span class=\"toc-item-num\">1.4.3&nbsp;&nbsp;</span>Initializing training</a></div><div class=\"lev2 toc-item\"><a href=\"#Auto-encoders-in-keras\" data-toc-modified-id=\"Auto-encoders-in-keras-15\"><span class=\"toc-item-num\">1.5&nbsp;&nbsp;</span>Auto-encoders in keras</a></div><div class=\"lev3 toc-item\"><a href=\"#Visualize-performance\" data-toc-modified-id=\"Visualize-performance-151\"><span class=\"toc-item-num\">1.5.1&nbsp;&nbsp;</span>Visualize performance</a></div><div class=\"lev3 toc-item\"><a href=\"#Parsing-the-encoded-representation\" data-toc-modified-id=\"Parsing-the-encoded-representation-152\"><span class=\"toc-item-num\">1.5.2&nbsp;&nbsp;</span>Parsing the encoded representation</a></div><div class=\"lev2 toc-item\"><a href=\"#Method-2-for-auto-encoders-in-keras\" data-toc-modified-id=\"Method-2-for-auto-encoders-in-keras-16\"><span class=\"toc-item-num\">1.6&nbsp;&nbsp;</span>Method 2 for auto-encoders in keras</a></div><div class=\"lev3 toc-item\"><a href=\"#Visualize-performance\" data-toc-modified-id=\"Visualize-performance-161\"><span class=\"toc-item-num\">1.6.1&nbsp;&nbsp;</span>Visualize performance</a></div><div class=\"lev3 toc-item\"><a href=\"#Summarize-the-above\" data-toc-modified-id=\"Summarize-the-above-162\"><span class=\"toc-item-num\">1.6.2&nbsp;&nbsp;</span>Summarize the above</a></div><div class=\"lev2 toc-item\"><a href=\"#Fancy-auto-encoders-in-keras\" data-toc-modified-id=\"Fancy-auto-encoders-in-keras-17\"><span class=\"toc-item-num\">1.7&nbsp;&nbsp;</span>Fancy auto-encoders in <code>keras</code></a></div><div class=\"lev3 toc-item\"><a href=\"#Results-of-convolutional-autoencoder\" data-toc-modified-id=\"Results-of-convolutional-autoencoder-171\"><span class=\"toc-item-num\">1.7.1&nbsp;&nbsp;</span>Results of convolutional autoencoder</a></div><div class=\"lev4 toc-item\"><a href=\"#Parsing-the-encoded-representation\" data-toc-modified-id=\"Parsing-the-encoded-representation-1711\"><span class=\"toc-item-num\">1.7.1.1&nbsp;&nbsp;</span>Parsing the encoded representation</a></div><div class=\"lev1 toc-item\"><a href=\"#Variance-Ratio-for-Active-Learning\" data-toc-modified-id=\"Variance-Ratio-for-Active-Learning-2\"><span class=\"toc-item-num\">2&nbsp;&nbsp;</span>Variance Ratio for Active Learning</a></div><div class=\"lev1 toc-item\"><a href=\"#Building-a-network-for-image-labelling-that-reads-in-images-from-a-directory\" data-toc-modified-id=\"Building-a-network-for-image-labelling-that-reads-in-images-from-a-directory-3\"><span class=\"toc-item-num\">3&nbsp;&nbsp;</span>Building a network for image labelling that reads in images from a directory</a></div>"
   ]
  },
  {
   "cell_type": "markdown",
   "metadata": {},
   "source": [
    "# Example `keras` model"
   ]
  },
  {
   "cell_type": "markdown",
   "metadata": {},
   "source": [
    "## Simple as can be\n",
    "Note that this was taken from the [keras website](https://blog.keras.io/keras-as-a-simplified-interface-to-tensorflow-tutorial.html#calling-keras-layers-on-tensorflow-tensors)."
   ]
  },
  {
   "cell_type": "code",
   "execution_count": 1,
   "metadata": {
    "collapsed": true
   },
   "outputs": [],
   "source": [
    "import tensorflow as tf\n",
    "sess = tf.Session()"
   ]
  },
  {
   "cell_type": "code",
   "execution_count": 2,
   "metadata": {
    "collapsed": false
   },
   "outputs": [
    {
     "name": "stderr",
     "output_type": "stream",
     "text": [
      "Using TensorFlow backend.\n"
     ]
    }
   ],
   "source": [
    "from keras import backend as K\n",
    "K.set_session(sess)"
   ]
  },
  {
   "cell_type": "markdown",
   "metadata": {},
   "source": [
    "We will use a variable called `img` to store the input images as flat vectors. "
   ]
  },
  {
   "cell_type": "code",
   "execution_count": 3,
   "metadata": {
    "collapsed": true
   },
   "outputs": [],
   "source": [
    "img = tf.placeholder(tf.float32, shape=(None, 784))"
   ]
  },
  {
   "cell_type": "markdown",
   "metadata": {},
   "source": [
    "Next we construct the network using `keras`"
   ]
  },
  {
   "cell_type": "code",
   "execution_count": 4,
   "metadata": {
    "collapsed": true
   },
   "outputs": [],
   "source": [
    "from keras.layers import Dense"
   ]
  },
  {
   "cell_type": "code",
   "execution_count": 5,
   "metadata": {
    "collapsed": true
   },
   "outputs": [],
   "source": [
    "x = Dense(128, activation='relu')(img)\n",
    "x = Dense(128, activation='relu')(x)\n",
    "preds = Dense(10, activation='softmax')(x)"
   ]
  },
  {
   "cell_type": "markdown",
   "metadata": {},
   "source": [
    "Next define the placeholder for the labels, and define the loss function"
   ]
  },
  {
   "cell_type": "code",
   "execution_count": 6,
   "metadata": {
    "collapsed": true
   },
   "outputs": [],
   "source": [
    "labels = tf.placeholder(tf.float32, shape=(None, 10))"
   ]
  },
  {
   "cell_type": "code",
   "execution_count": 7,
   "metadata": {
    "collapsed": true
   },
   "outputs": [],
   "source": [
    "from keras.objectives import categorical_crossentropy"
   ]
  },
  {
   "cell_type": "code",
   "execution_count": 8,
   "metadata": {
    "collapsed": true
   },
   "outputs": [],
   "source": [
    "loss = tf.reduce_mean(categorical_crossentropy(labels, preds))"
   ]
  },
  {
   "cell_type": "markdown",
   "metadata": {},
   "source": [
    "Next, train the model  using a Tensorflow optimizer"
   ]
  },
  {
   "cell_type": "code",
   "execution_count": 9,
   "metadata": {
    "collapsed": true
   },
   "outputs": [],
   "source": [
    "from tensorflow.examples.tutorials.mnist import input_data"
   ]
  },
  {
   "cell_type": "code",
   "execution_count": 10,
   "metadata": {
    "collapsed": false
   },
   "outputs": [
    {
     "name": "stdout",
     "output_type": "stream",
     "text": [
      "Extracting MNIST_data/train-images-idx3-ubyte.gz\n",
      "Extracting MNIST_data/train-labels-idx1-ubyte.gz\n",
      "Extracting MNIST_data/t10k-images-idx3-ubyte.gz\n",
      "Extracting MNIST_data/t10k-labels-idx1-ubyte.gz\n"
     ]
    }
   ],
   "source": [
    "mnist_data = input_data.read_data_sets('MNIST_data', one_hot=True)"
   ]
  },
  {
   "cell_type": "code",
   "execution_count": 11,
   "metadata": {
    "collapsed": true
   },
   "outputs": [],
   "source": [
    "train_step = tf.train.GradientDescentOptimizer(.5).minimize(loss)"
   ]
  },
  {
   "cell_type": "markdown",
   "metadata": {},
   "source": [
    "Next, initialize the variables"
   ]
  },
  {
   "cell_type": "code",
   "execution_count": 12,
   "metadata": {
    "collapsed": true
   },
   "outputs": [],
   "source": [
    "init_op = tf.global_variables_initializer()\n",
    "sess.run(init_op)"
   ]
  },
  {
   "cell_type": "markdown",
   "metadata": {},
   "source": [
    "And then run the training loop"
   ]
  },
  {
   "cell_type": "code",
   "execution_count": 13,
   "metadata": {
    "collapsed": true
   },
   "outputs": [],
   "source": [
    "with sess.as_default():\n",
    "    for j in range(100):\n",
    "        batch = mnist_data.train.next_batch(50)\n",
    "        train_step.run(feed_dict={img: batch[0], \n",
    "                                  labels: batch[1]})"
   ]
  },
  {
   "cell_type": "markdown",
   "metadata": {},
   "source": [
    "Now let's evaluate the model"
   ]
  },
  {
   "cell_type": "code",
   "execution_count": 14,
   "metadata": {
    "collapsed": true
   },
   "outputs": [],
   "source": [
    "from keras.metrics import categorical_accuracy as accuracy"
   ]
  },
  {
   "cell_type": "code",
   "execution_count": 15,
   "metadata": {
    "collapsed": false
   },
   "outputs": [
    {
     "name": "stdout",
     "output_type": "stream",
     "text": [
      "0.8742\n"
     ]
    }
   ],
   "source": [
    "acc_value = accuracy(labels, preds)\n",
    "with sess.as_default():\n",
    "    print(sum(acc_value.eval(feed_dict={img:mnist_data.test.images,\n",
    "                                        labels:mnist_data.test.labels}))/len(mnist_data.test.images))"
   ]
  },
  {
   "cell_type": "markdown",
   "metadata": {},
   "source": [
    "## Adding dropout for the learning phase"
   ]
  },
  {
   "cell_type": "markdown",
   "metadata": {},
   "source": [
    "Import packages"
   ]
  },
  {
   "cell_type": "code",
   "execution_count": 1,
   "metadata": {
    "collapsed": false
   },
   "outputs": [
    {
     "name": "stderr",
     "output_type": "stream",
     "text": [
      "Using TensorFlow backend.\n"
     ]
    }
   ],
   "source": [
    "import tensorflow as tf\n",
    "from keras import backend as K"
   ]
  },
  {
   "cell_type": "code",
   "execution_count": 2,
   "metadata": {
    "collapsed": true
   },
   "outputs": [],
   "source": [
    "from keras.layers import Dense\n",
    "from keras.layers import Dropout\n",
    "from keras.objectives import categorical_crossentropy\n",
    "from keras.metrics import categorical_accuracy as accuracy"
   ]
  },
  {
   "cell_type": "code",
   "execution_count": 3,
   "metadata": {
    "collapsed": true
   },
   "outputs": [],
   "source": [
    "import matplotlib.pyplot as plt\n",
    "%matplotlib inline"
   ]
  },
  {
   "cell_type": "markdown",
   "metadata": {},
   "source": [
    "Activate/set session: basically, tie the C++ `tensorflow` backend to `keras`."
   ]
  },
  {
   "cell_type": "code",
   "execution_count": 4,
   "metadata": {
    "collapsed": true
   },
   "outputs": [],
   "source": [
    "sess = tf.Session()\n",
    "K.set_session(sess)"
   ]
  },
  {
   "cell_type": "markdown",
   "metadata": {},
   "source": [
    "Set input and output variable placeholders"
   ]
  },
  {
   "cell_type": "code",
   "execution_count": 5,
   "metadata": {
    "collapsed": true
   },
   "outputs": [],
   "source": [
    "img = tf.placeholder(tf.float32, shape=(None, 784))\n",
    "labels = tf.placeholder(tf.float32, shape=(None, 10))"
   ]
  },
  {
   "cell_type": "markdown",
   "metadata": {},
   "source": [
    "Construct network with dropout; will take longer to train but should generalize better."
   ]
  },
  {
   "cell_type": "code",
   "execution_count": 6,
   "metadata": {
    "collapsed": true
   },
   "outputs": [],
   "source": [
    "x = Dense(128, activation='relu')(img)\n",
    "x = Dropout(.5)(x)\n",
    "x = Dense(128, activation='relu')(x)\n",
    "x = Dropout(.5)(x)\n",
    "preds = Dense(10, activation='softmax')(x)"
   ]
  },
  {
   "cell_type": "markdown",
   "metadata": {},
   "source": [
    "Define loss function using categorical cross-entropy"
   ]
  },
  {
   "cell_type": "code",
   "execution_count": 7,
   "metadata": {
    "collapsed": false
   },
   "outputs": [],
   "source": [
    "loss = tf.reduce_mean(categorical_crossentropy(labels, preds))"
   ]
  },
  {
   "cell_type": "markdown",
   "metadata": {},
   "source": [
    "Load in data from file."
   ]
  },
  {
   "cell_type": "code",
   "execution_count": 8,
   "metadata": {
    "collapsed": false
   },
   "outputs": [
    {
     "name": "stdout",
     "output_type": "stream",
     "text": [
      "Extracting MNIST_data/train-images-idx3-ubyte.gz\n",
      "Extracting MNIST_data/train-labels-idx1-ubyte.gz\n",
      "Extracting MNIST_data/t10k-images-idx3-ubyte.gz\n",
      "Extracting MNIST_data/t10k-labels-idx1-ubyte.gz\n"
     ]
    }
   ],
   "source": [
    "from tensorflow.examples.tutorials.mnist import input_data\n",
    "mnist_data = input_data.read_data_sets('MNIST_data', one_hot=True)"
   ]
  },
  {
   "cell_type": "markdown",
   "metadata": {},
   "source": [
    "Next, train the model  using a Tensorflow optimizer, gradient descent. I cannot figure out if it's doing mini-batch SGD or regular ol' GD"
   ]
  },
  {
   "cell_type": "code",
   "execution_count": 9,
   "metadata": {
    "collapsed": true
   },
   "outputs": [],
   "source": [
    "train_step = tf.train.GradientDescentOptimizer(.5).minimize(loss)"
   ]
  },
  {
   "cell_type": "markdown",
   "metadata": {},
   "source": [
    "Initialize all variables in workspace."
   ]
  },
  {
   "cell_type": "code",
   "execution_count": 10,
   "metadata": {
    "collapsed": true
   },
   "outputs": [],
   "source": [
    "init_op = tf.global_variables_initializer()\n",
    "sess.run(init_op)"
   ]
  },
  {
   "cell_type": "markdown",
   "metadata": {},
   "source": [
    "Run the training loop — we are in the *learning phase* so we have to specify this in `feed_dict` so that `tf` and `keras` know how to use the `Dropout` layers."
   ]
  },
  {
   "cell_type": "code",
   "execution_count": 11,
   "metadata": {
    "collapsed": true
   },
   "outputs": [],
   "source": [
    "test_error = []\n",
    "batch_number = []\n",
    "num_rounds = 500"
   ]
  },
  {
   "cell_type": "code",
   "execution_count": 12,
   "metadata": {
    "collapsed": true
   },
   "outputs": [],
   "source": [
    "acc_value = accuracy(labels, preds)"
   ]
  },
  {
   "cell_type": "code",
   "execution_count": 13,
   "metadata": {
    "collapsed": false
   },
   "outputs": [],
   "source": [
    "with sess.as_default():\n",
    "    for j in range(num_rounds):\n",
    "        batch = mnist_data.train.next_batch(50)\n",
    "        train_step.run(feed_dict={img: batch[0], \n",
    "                                  labels: batch[1],\n",
    "                                  K.learning_phase():1})\n",
    "        if (j%50) == 1:\n",
    "            batch_number.append(j)\n",
    "            test_error.append(\n",
    "                sum(acc_value.eval(feed_dict={img:mnist_data.test.images,\n",
    "                                              labels: mnist_data.test.labels,\n",
    "                                              K.learning_phase():0})) /\n",
    "                mnist_data.test.num_examples)"
   ]
  },
  {
   "cell_type": "markdown",
   "metadata": {},
   "source": [
    "Append the final test error..."
   ]
  },
  {
   "cell_type": "code",
   "execution_count": 14,
   "metadata": {
    "collapsed": false
   },
   "outputs": [],
   "source": [
    "with sess.as_default():\n",
    "    batch_number.append(num_rounds-1)\n",
    "    test_error.append(sum(acc_value.eval(feed_dict={img:mnist_data.test.images,\n",
    "                                                    labels:mnist_data.test.labels,\n",
    "                                                    K.learning_phase():0})) /\n",
    "                      mnist_data.test.num_examples)"
   ]
  },
  {
   "cell_type": "markdown",
   "metadata": {},
   "source": [
    "Plot the resulting accuracy after each recorded batch number"
   ]
  },
  {
   "cell_type": "code",
   "execution_count": 15,
   "metadata": {
    "collapsed": false
   },
   "outputs": [
    {
     "data": {
      "image/png": "[encoded data removed]",
      "text/plain": [
       "<matplotlib.figure.Figure at 0x12547b160>"
      ]
     },
     "metadata": {},
     "output_type": "display_data"
    }
   ],
   "source": [
    "plt.plot(batch_number, test_error);\n",
    "plt.xlabel('Number of batches')\n",
    "plt.ylabel('Categorical Accuracy (%)');"
   ]
  },
  {
   "cell_type": "markdown",
   "metadata": {},
   "source": [
    "## Multilayer convolutional neural network"
   ]
  },
  {
   "cell_type": "markdown",
   "metadata": {},
   "source": [
    "This is a tutorial from [the tensorflow blog](https://www.tensorflow.org/get_started/mnist/pros#build_a_multilayer_convolutional_network)."
   ]
  },
  {
   "cell_type": "markdown",
   "metadata": {},
   "source": [
    "### Set-up"
   ]
  },
  {
   "cell_type": "code",
   "execution_count": 1,
   "metadata": {
    "collapsed": true
   },
   "outputs": [],
   "source": [
    "import tensorflow as tf"
   ]
  },
  {
   "cell_type": "code",
   "execution_count": 2,
   "metadata": {
    "collapsed": false
   },
   "outputs": [
    {
     "name": "stdout",
     "output_type": "stream",
     "text": [
      "Extracting MNIST_data/train-images-idx3-ubyte.gz\n",
      "Extracting MNIST_data/train-labels-idx1-ubyte.gz\n",
      "Extracting MNIST_data/t10k-images-idx3-ubyte.gz\n",
      "Extracting MNIST_data/t10k-labels-idx1-ubyte.gz\n"
     ]
    }
   ],
   "source": [
    "from tensorflow.examples.tutorials.mnist import input_data\n",
    "mnist = input_data.read_data_sets('MNIST_data', one_hot=True)"
   ]
  },
  {
   "cell_type": "code",
   "execution_count": 3,
   "metadata": {
    "collapsed": true
   },
   "outputs": [],
   "source": [
    "x = tf.placeholder(tf.float32, shape=[None, 784])\n",
    "y_ = tf.placeholder(tf.float32, shape=[None, 10])"
   ]
  },
  {
   "cell_type": "markdown",
   "metadata": {},
   "source": [
    "### weight initialization\n",
    "\n",
    "we want to initialize random weights (to avoid zero-gradients and for symmetry breaking) that lie away from zero (to avoid \"dead neurons\"). define two functions to do this"
   ]
  },
  {
   "cell_type": "code",
   "execution_count": 4,
   "metadata": {
    "collapsed": true
   },
   "outputs": [],
   "source": [
    "def weight_variable(shape):\n",
    "    initial = tf.truncated_normal(shape, stddev=.1)\n",
    "    return tf.Variable(initial)\n",
    "\n",
    "def bias_variable(shape):\n",
    "    initial = tf.constant(.1, shape=shape)\n",
    "    return tf.Variable(initial)"
   ]
  },
  {
   "cell_type": "markdown",
   "metadata": {},
   "source": [
    "### Convolution and Pooling"
   ]
  },
  {
   "cell_type": "code",
   "execution_count": 5,
   "metadata": {
    "collapsed": true
   },
   "outputs": [],
   "source": [
    "def conv2d(x, W):\n",
    "    return tf.nn.conv2d(x, W, \n",
    "                        strides=[1,1,1,1], \n",
    "                        padding='SAME')\n",
    "\n",
    "def max_pool_2x2(x):\n",
    "    return tf.nn.max_pool(x, ksize=[1,2,2,1], \n",
    "                          strides=[1,2,2,1], \n",
    "                          padding='SAME')"
   ]
  },
  {
   "cell_type": "markdown",
   "metadata": {},
   "source": [
    "### First convolutional layer"
   ]
  },
  {
   "cell_type": "code",
   "execution_count": 6,
   "metadata": {
    "collapsed": true
   },
   "outputs": [],
   "source": [
    "W_conv1 = weight_variable([5,5,1,32])\n",
    "b_conv1 = bias_variable([32])"
   ]
  },
  {
   "cell_type": "markdown",
   "metadata": {},
   "source": [
    "To apply the layer, we first reshape x to a 4d tensor, with the second and third dimensions corresponding to image width and height, and the final dimension corresponding to the number of color channels."
   ]
  },
  {
   "cell_type": "code",
   "execution_count": 7,
   "metadata": {
    "collapsed": false
   },
   "outputs": [],
   "source": [
    "x_image = tf.reshape(x, shape=[-1, 28, 28, 1])"
   ]
  },
  {
   "cell_type": "code",
   "execution_count": 8,
   "metadata": {
    "collapsed": true
   },
   "outputs": [],
   "source": [
    "h_conv1 = tf.nn.relu(conv2d(x_image, W_conv1) + b_conv1)\n",
    "h_pool1 = max_pool_2x2(h_conv1)"
   ]
  },
  {
   "cell_type": "markdown",
   "metadata": {},
   "source": [
    "### Second convolutional layer"
   ]
  },
  {
   "cell_type": "code",
   "execution_count": 9,
   "metadata": {
    "collapsed": true
   },
   "outputs": [],
   "source": [
    "W_conv2 = weight_variable([5,5,32,64])\n",
    "b_conv2 = bias_variable([64])\n",
    "\n",
    "h_conv2 = tf.nn.relu(conv2d(h_pool1, W_conv2) + b_conv2)\n",
    "h_pool2 = max_pool_2x2(h_conv2)"
   ]
  },
  {
   "cell_type": "markdown",
   "metadata": {},
   "source": [
    "### Densely connected layer"
   ]
  },
  {
   "cell_type": "code",
   "execution_count": 10,
   "metadata": {
    "collapsed": true
   },
   "outputs": [],
   "source": [
    "W_fc1 = weight_variable([7 * 7 * 64, 1024])\n",
    "b_fc1 = bias_variable([1024])\n",
    "\n",
    "h_pool2_flat = tf.reshape(h_pool2, [-1, 7*7*64])\n",
    "h_fc1 = tf.nn.relu(tf.matmul(h_pool2_flat, W_fc1) + b_fc1)"
   ]
  },
  {
   "cell_type": "markdown",
   "metadata": {},
   "source": [
    "### Dropout layer"
   ]
  },
  {
   "cell_type": "code",
   "execution_count": 11,
   "metadata": {
    "collapsed": true
   },
   "outputs": [],
   "source": [
    "keep_prob = tf.placeholder(tf.float32)\n",
    "h_fc1_drop = tf.nn.dropout(h_fc1, keep_prob)"
   ]
  },
  {
   "cell_type": "markdown",
   "metadata": {},
   "source": [
    "### Readout layer"
   ]
  },
  {
   "cell_type": "code",
   "execution_count": 12,
   "metadata": {
    "collapsed": true
   },
   "outputs": [],
   "source": [
    "W_fc2 = weight_variable([1024, 10])\n",
    "b_fc2 = bias_variable([10])\n",
    "\n",
    "y_conv = tf.matmul(h_fc1_drop, W_fc2) + b_fc2"
   ]
  },
  {
   "cell_type": "markdown",
   "metadata": {},
   "source": [
    "### Setting up training"
   ]
  },
  {
   "cell_type": "code",
   "execution_count": 13,
   "metadata": {
    "collapsed": true
   },
   "outputs": [],
   "source": [
    "cross_entropy = tf.reduce_mean(\n",
    "    tf.nn.softmax_cross_entropy_with_logits(labels=y_, logits=y_conv))\n",
    "\n",
    "train_step = tf.train.AdamOptimizer(1e-4).minimize(cross_entropy)\n",
    "\n",
    "correct_prediction = tf.equal(tf.argmax(y_conv, 1), tf.argmax(y_, 1))\n",
    "\n",
    "accuracy = tf.reduce_mean(tf.cast(correct_prediction, tf.float32))"
   ]
  },
  {
   "cell_type": "markdown",
   "metadata": {},
   "source": [
    "### Running training"
   ]
  },
  {
   "cell_type": "code",
   "execution_count": 15,
   "metadata": {
    "collapsed": false
   },
   "outputs": [
    {
     "name": "stdout",
     "output_type": "stream",
     "text": [
      "step 0, training accuracy 0.12\n",
      "step 100, training accuracy 0.86\n",
      "step 200, training accuracy 0.9\n",
      "step 300, training accuracy 0.92\n",
      "step 400, training accuracy 1\n",
      "step 500, training accuracy 0.96\n",
      "step 600, training accuracy 1\n",
      "step 700, training accuracy 0.92\n",
      "step 800, training accuracy 0.98\n",
      "step 900, training accuracy 1\n",
      "step 1000, training accuracy 0.98\n",
      "step 1100, training accuracy 0.98\n",
      "step 1200, training accuracy 0.98\n",
      "step 1300, training accuracy 0.98\n",
      "step 1400, training accuracy 0.96\n",
      "step 1500, training accuracy 0.98\n",
      "step 1600, training accuracy 0.98\n",
      "step 1700, training accuracy 0.94\n",
      "step 1800, training accuracy 0.96\n",
      "step 1900, training accuracy 1\n",
      "test accuracy: 0.98\n"
     ]
    }
   ],
   "source": [
    "with tf.Session() as sess:\n",
    "    sess.run(tf.global_variables_initializer())\n",
    "    for j in range(2000):\n",
    "        batch = mnist.train.next_batch(50)\n",
    "        if (j % 100) == 0:\n",
    "            train_accuracy = accuracy.eval(feed_dict = {x: batch[0], \n",
    "                                                        y_:batch[1], \n",
    "                                                        keep_prob: 1.0})\n",
    "            print('step {:d}, training accuracy {:g}'.format(j, train_accuracy))\n",
    "        train_step.run(feed_dict={x:batch[0], y_:batch[1], keep_prob:.5})\n",
    "    # done for loop\n",
    "    print('test accuracy: {:g}'.format(accuracy.eval(feed_dict={x:batch[0], y_:batch[1], keep_prob:1.0})))"
   ]
  },
  {
   "cell_type": "markdown",
   "metadata": {},
   "source": [
    "## Multilayer CNN with `keras`"
   ]
  },
  {
   "cell_type": "markdown",
   "metadata": {},
   "source": [
    "See [this `keras` blog post](https://blog.keras.io/building-powerful-image-classification-models-using-very-little-data.html) for details"
   ]
  },
  {
   "cell_type": "markdown",
   "metadata": {},
   "source": [
    "### Setting up data generation from only 1000 images from each class"
   ]
  },
  {
   "cell_type": "code",
   "execution_count": 9,
   "metadata": {
    "collapsed": true
   },
   "outputs": [],
   "source": [
    "from keras.preprocessing.image import ImageDataGenerator, array_to_img, img_to_array, load_img"
   ]
  },
  {
   "cell_type": "code",
   "execution_count": 11,
   "metadata": {
    "collapsed": false
   },
   "outputs": [],
   "source": [
    "datagen = ImageDataGenerator(rotation_range=40, \n",
    "                             width_shift_range=.2, height_shift_range=.2, \n",
    "                             shear_range=.2, zoom_range=.2, \n",
    "                             fill_mode='nearest', horizontal_flip=True)"
   ]
  },
  {
   "cell_type": "markdown",
   "metadata": {},
   "source": [
    "### Setting up the network"
   ]
  },
  {
   "cell_type": "code",
   "execution_count": 1,
   "metadata": {
    "collapsed": true
   },
   "outputs": [],
   "source": [
    "from keras.models import Sequential\n",
    "from keras.layers import Conv2D, MaxPooling2D\n",
    "from keras.layers import Activation, Dense, Dropout, Flatten"
   ]
  },
  {
   "cell_type": "code",
   "execution_count": 18,
   "metadata": {
    "collapsed": false
   },
   "outputs": [],
   "source": [
    "model = Sequential()\n",
    "model.add(Conv2D(32, (3,3), input_shape=(150, 150, 3)))\n",
    "model.add(Activation('relu'))\n",
    "model.add(MaxPooling2D())\n",
    "\n",
    "model.add(Conv2D(32, (3,3)))\n",
    "model.add(Activation('relu'))\n",
    "model.add(MaxPooling2D())\n",
    "\n",
    "model.add(Conv2D(64, (3,3)))\n",
    "model.add(Activation('relu'))\n",
    "model.add(MaxPooling2D())\n",
    "\n",
    "model.add(Flatten())\n",
    "model.add(Dense(64))\n",
    "model.add(Activation('relu'))\n",
    "model.add(Dropout(0.5))\n",
    "model.add(Dense(1))\n",
    "model.add(Activation('sigmoid'))"
   ]
  },
  {
   "cell_type": "code",
   "execution_count": 19,
   "metadata": {
    "collapsed": true
   },
   "outputs": [],
   "source": [
    "model.compile(loss='binary_crossentropy',\n",
    "              optimizer='rmsprop',\n",
    "              metrics=['accuracy'])"
   ]
  },
  {
   "cell_type": "markdown",
   "metadata": {},
   "source": [
    "### Initializing training"
   ]
  },
  {
   "cell_type": "code",
   "execution_count": 12,
   "metadata": {
    "collapsed": true
   },
   "outputs": [],
   "source": [
    "batch_size = 16"
   ]
  },
  {
   "cell_type": "code",
   "execution_count": 13,
   "metadata": {
    "collapsed": true
   },
   "outputs": [],
   "source": [
    "train_datagen = ImageDataGenerator(rescale=1./255, horizontal_flip=True,\n",
    "                                   shear_range=0.2,zoom_range=0.2)"
   ]
  },
  {
   "cell_type": "code",
   "execution_count": 14,
   "metadata": {
    "collapsed": true
   },
   "outputs": [],
   "source": [
    "test_datagen = ImageDataGenerator(rescale=1./255)"
   ]
  },
  {
   "cell_type": "code",
   "execution_count": 15,
   "metadata": {
    "collapsed": false
   },
   "outputs": [
    {
     "name": "stdout",
     "output_type": "stream",
     "text": [
      "Found 2002 images belonging to 2 classes.\n"
     ]
    }
   ],
   "source": [
    "train_generator = train_datagen.flow_from_directory(\n",
    "        'catsdogs/train',  # this is the target directory\n",
    "        target_size=(150, 150),  # all images will be resized to 150x150\n",
    "        batch_size=batch_size,\n",
    "        class_mode='binary')  # since we use binary_crossentropy loss, we need binary labels"
   ]
  },
  {
   "cell_type": "code",
   "execution_count": 16,
   "metadata": {
    "collapsed": false
   },
   "outputs": [
    {
     "name": "stdout",
     "output_type": "stream",
     "text": [
      "Found 800 images belonging to 2 classes.\n"
     ]
    }
   ],
   "source": [
    "validation_generator = test_datagen.flow_from_directory(\n",
    "        'catsdogs/validation',\n",
    "        target_size=(150, 150),\n",
    "        batch_size=batch_size,\n",
    "        class_mode='binary')"
   ]
  },
  {
   "cell_type": "code",
   "execution_count": 20,
   "metadata": {
    "collapsed": false,
    "scrolled": true
   },
   "outputs": [
    {
     "name": "stdout",
     "output_type": "stream",
     "text": [
      "Epoch 1/50\n",
      "125/125 [==============================] - 76s - loss: 0.7080 - acc: 0.5400 - val_loss: 0.6669 - val_acc: 0.6025\n",
      "Epoch 2/50\n",
      "125/125 [==============================] - 77s - loss: 0.6649 - acc: 0.6075 - val_loss: 0.6875 - val_acc: 0.5988\n",
      "Epoch 3/50\n",
      "125/125 [==============================] - 77s - loss: 0.6242 - acc: 0.6560 - val_loss: 0.6516 - val_acc: 0.6212\n",
      "Epoch 4/50\n",
      "125/125 [==============================] - 76s - loss: 0.6092 - acc: 0.6845 - val_loss: 0.6076 - val_acc: 0.6787\n",
      "Epoch 5/50\n",
      "125/125 [==============================] - 72s - loss: 0.5850 - acc: 0.7125 - val_loss: 0.6130 - val_acc: 0.6775\n",
      "Epoch 6/50\n",
      "125/125 [==============================] - 71s - loss: 0.5896 - acc: 0.7010 - val_loss: 0.5668 - val_acc: 0.6937\n",
      "Epoch 7/50\n",
      "125/125 [==============================] - 73s - loss: 0.5567 - acc: 0.7215 - val_loss: 0.5816 - val_acc: 0.6863\n",
      "Epoch 8/50\n",
      "125/125 [==============================] - 74s - loss: 0.5449 - acc: 0.7295 - val_loss: 0.5370 - val_acc: 0.7100\n",
      "Epoch 9/50\n",
      "125/125 [==============================] - 73s - loss: 0.5397 - acc: 0.7445 - val_loss: 0.5393 - val_acc: 0.7163\n",
      "Epoch 10/50\n",
      "125/125 [==============================] - 73s - loss: 0.5148 - acc: 0.7515 - val_loss: 0.4908 - val_acc: 0.7525\n",
      "Epoch 11/50\n",
      "125/125 [==============================] - 72s - loss: 0.5080 - acc: 0.7575 - val_loss: 0.5105 - val_acc: 0.7338\n",
      "Epoch 12/50\n",
      "125/125 [==============================] - 76s - loss: 0.4784 - acc: 0.7755 - val_loss: 0.4685 - val_acc: 0.7863\n",
      "Epoch 13/50\n",
      " 63/125 [==============>...............] - ETA: 31s - loss: 0.4801 - acc: 0.7659"
     ]
    },
    {
     "ename": "KeyboardInterrupt",
     "evalue": "",
     "output_type": "error",
     "traceback": [
      "\u001b[0;31m---------------------------------------------------------------------------\u001b[0m",
      "\u001b[0;31mKeyboardInterrupt\u001b[0m                         Traceback (most recent call last)",
      "\u001b[0;32m<ipython-input-20-0af6dae6cb35>\u001b[0m in \u001b[0;36m<module>\u001b[0;34m()\u001b[0m\n\u001b[1;32m      4\u001b[0m         \u001b[0mepochs\u001b[0m\u001b[0;34m=\u001b[0m\u001b[0;36m50\u001b[0m\u001b[0;34m,\u001b[0m\u001b[0;34m\u001b[0m\u001b[0m\n\u001b[1;32m      5\u001b[0m         \u001b[0mvalidation_data\u001b[0m\u001b[0;34m=\u001b[0m\u001b[0mvalidation_generator\u001b[0m\u001b[0;34m,\u001b[0m\u001b[0;34m\u001b[0m\u001b[0m\n\u001b[0;32m----> 6\u001b[0;31m         validation_steps=800 // batch_size)\n\u001b[0m\u001b[1;32m      7\u001b[0m \u001b[0mmodel\u001b[0m\u001b[0;34m.\u001b[0m\u001b[0msave_weights\u001b[0m\u001b[0;34m(\u001b[0m\u001b[0;34m'first_try.h5'\u001b[0m\u001b[0;34m)\u001b[0m  \u001b[0;31m# always save your weights after training or during training\u001b[0m\u001b[0;34m\u001b[0m\u001b[0m\n",
      "\u001b[0;32m/Users/berkas/anaconda/lib/python3.5/site-packages/keras/legacy/interfaces.py\u001b[0m in \u001b[0;36mwrapper\u001b[0;34m(*args, **kwargs)\u001b[0m\n\u001b[1;32m     85\u001b[0m                 warnings.warn('Update your `' + object_name +\n\u001b[1;32m     86\u001b[0m                               '` call to the Keras 2 API: ' + signature)\n\u001b[0;32m---> 87\u001b[0;31m             \u001b[0;32mreturn\u001b[0m \u001b[0mfunc\u001b[0m\u001b[0;34m(\u001b[0m\u001b[0;34m*\u001b[0m\u001b[0margs\u001b[0m\u001b[0;34m,\u001b[0m \u001b[0;34m**\u001b[0m\u001b[0mkwargs\u001b[0m\u001b[0;34m)\u001b[0m\u001b[0;34m\u001b[0m\u001b[0m\n\u001b[0m\u001b[1;32m     88\u001b[0m         \u001b[0;32mreturn\u001b[0m \u001b[0mwrapper\u001b[0m\u001b[0;34m\u001b[0m\u001b[0m\n\u001b[1;32m     89\u001b[0m     \u001b[0;32mreturn\u001b[0m \u001b[0mlegacy_support\u001b[0m\u001b[0;34m\u001b[0m\u001b[0m\n",
      "\u001b[0;32m/Users/berkas/anaconda/lib/python3.5/site-packages/keras/models.py\u001b[0m in \u001b[0;36mfit_generator\u001b[0;34m(self, generator, steps_per_epoch, epochs, verbose, callbacks, validation_data, validation_steps, class_weight, max_q_size, workers, pickle_safe, initial_epoch)\u001b[0m\n\u001b[1;32m   1095\u001b[0m                                         \u001b[0mworkers\u001b[0m\u001b[0;34m=\u001b[0m\u001b[0mworkers\u001b[0m\u001b[0;34m,\u001b[0m\u001b[0;34m\u001b[0m\u001b[0m\n\u001b[1;32m   1096\u001b[0m                                         \u001b[0mpickle_safe\u001b[0m\u001b[0;34m=\u001b[0m\u001b[0mpickle_safe\u001b[0m\u001b[0;34m,\u001b[0m\u001b[0;34m\u001b[0m\u001b[0m\n\u001b[0;32m-> 1097\u001b[0;31m                                         initial_epoch=initial_epoch)\n\u001b[0m\u001b[1;32m   1098\u001b[0m \u001b[0;34m\u001b[0m\u001b[0m\n\u001b[1;32m   1099\u001b[0m     \u001b[0;34m@\u001b[0m\u001b[0minterfaces\u001b[0m\u001b[0;34m.\u001b[0m\u001b[0mlegacy_generator_methods_support\u001b[0m\u001b[0;34m\u001b[0m\u001b[0m\n",
      "\u001b[0;32m/Users/berkas/anaconda/lib/python3.5/site-packages/keras/legacy/interfaces.py\u001b[0m in \u001b[0;36mwrapper\u001b[0;34m(*args, **kwargs)\u001b[0m\n\u001b[1;32m     85\u001b[0m                 warnings.warn('Update your `' + object_name +\n\u001b[1;32m     86\u001b[0m                               '` call to the Keras 2 API: ' + signature)\n\u001b[0;32m---> 87\u001b[0;31m             \u001b[0;32mreturn\u001b[0m \u001b[0mfunc\u001b[0m\u001b[0;34m(\u001b[0m\u001b[0;34m*\u001b[0m\u001b[0margs\u001b[0m\u001b[0;34m,\u001b[0m \u001b[0;34m**\u001b[0m\u001b[0mkwargs\u001b[0m\u001b[0;34m)\u001b[0m\u001b[0;34m\u001b[0m\u001b[0m\n\u001b[0m\u001b[1;32m     88\u001b[0m         \u001b[0;32mreturn\u001b[0m \u001b[0mwrapper\u001b[0m\u001b[0;34m\u001b[0m\u001b[0m\n\u001b[1;32m     89\u001b[0m     \u001b[0;32mreturn\u001b[0m \u001b[0mlegacy_support\u001b[0m\u001b[0;34m\u001b[0m\u001b[0m\n",
      "\u001b[0;32m/Users/berkas/anaconda/lib/python3.5/site-packages/keras/engine/training.py\u001b[0m in \u001b[0;36mfit_generator\u001b[0;34m(self, generator, steps_per_epoch, epochs, verbose, callbacks, validation_data, validation_steps, class_weight, max_q_size, workers, pickle_safe, initial_epoch)\u001b[0m\n\u001b[1;32m   1874\u001b[0m                     outs = self.train_on_batch(x, y,\n\u001b[1;32m   1875\u001b[0m                                                \u001b[0msample_weight\u001b[0m\u001b[0;34m=\u001b[0m\u001b[0msample_weight\u001b[0m\u001b[0;34m,\u001b[0m\u001b[0;34m\u001b[0m\u001b[0m\n\u001b[0;32m-> 1876\u001b[0;31m                                                class_weight=class_weight)\n\u001b[0m\u001b[1;32m   1877\u001b[0m \u001b[0;34m\u001b[0m\u001b[0m\n\u001b[1;32m   1878\u001b[0m                     \u001b[0;32mif\u001b[0m \u001b[0;32mnot\u001b[0m \u001b[0misinstance\u001b[0m\u001b[0;34m(\u001b[0m\u001b[0mouts\u001b[0m\u001b[0;34m,\u001b[0m \u001b[0mlist\u001b[0m\u001b[0;34m)\u001b[0m\u001b[0;34m:\u001b[0m\u001b[0;34m\u001b[0m\u001b[0m\n",
      "\u001b[0;32m/Users/berkas/anaconda/lib/python3.5/site-packages/keras/engine/training.py\u001b[0m in \u001b[0;36mtrain_on_batch\u001b[0;34m(self, x, y, sample_weight, class_weight)\u001b[0m\n\u001b[1;32m   1618\u001b[0m             \u001b[0mins\u001b[0m \u001b[0;34m=\u001b[0m \u001b[0mx\u001b[0m \u001b[0;34m+\u001b[0m \u001b[0my\u001b[0m \u001b[0;34m+\u001b[0m \u001b[0msample_weights\u001b[0m\u001b[0;34m\u001b[0m\u001b[0m\n\u001b[1;32m   1619\u001b[0m         \u001b[0mself\u001b[0m\u001b[0;34m.\u001b[0m\u001b[0m_make_train_function\u001b[0m\u001b[0;34m(\u001b[0m\u001b[0;34m)\u001b[0m\u001b[0;34m\u001b[0m\u001b[0m\n\u001b[0;32m-> 1620\u001b[0;31m         \u001b[0moutputs\u001b[0m \u001b[0;34m=\u001b[0m \u001b[0mself\u001b[0m\u001b[0;34m.\u001b[0m\u001b[0mtrain_function\u001b[0m\u001b[0;34m(\u001b[0m\u001b[0mins\u001b[0m\u001b[0;34m)\u001b[0m\u001b[0;34m\u001b[0m\u001b[0m\n\u001b[0m\u001b[1;32m   1621\u001b[0m         \u001b[0;32mif\u001b[0m \u001b[0mlen\u001b[0m\u001b[0;34m(\u001b[0m\u001b[0moutputs\u001b[0m\u001b[0;34m)\u001b[0m \u001b[0;34m==\u001b[0m \u001b[0;36m1\u001b[0m\u001b[0;34m:\u001b[0m\u001b[0;34m\u001b[0m\u001b[0m\n\u001b[1;32m   1622\u001b[0m             \u001b[0;32mreturn\u001b[0m \u001b[0moutputs\u001b[0m\u001b[0;34m[\u001b[0m\u001b[0;36m0\u001b[0m\u001b[0;34m]\u001b[0m\u001b[0;34m\u001b[0m\u001b[0m\n",
      "\u001b[0;32m/Users/berkas/anaconda/lib/python3.5/site-packages/keras/backend/tensorflow_backend.py\u001b[0m in \u001b[0;36m__call__\u001b[0;34m(self, inputs)\u001b[0m\n\u001b[1;32m   2073\u001b[0m         \u001b[0msession\u001b[0m \u001b[0;34m=\u001b[0m \u001b[0mget_session\u001b[0m\u001b[0;34m(\u001b[0m\u001b[0;34m)\u001b[0m\u001b[0;34m\u001b[0m\u001b[0m\n\u001b[1;32m   2074\u001b[0m         updated = session.run(self.outputs + [self.updates_op],\n\u001b[0;32m-> 2075\u001b[0;31m                               feed_dict=feed_dict)\n\u001b[0m\u001b[1;32m   2076\u001b[0m         \u001b[0;32mreturn\u001b[0m \u001b[0mupdated\u001b[0m\u001b[0;34m[\u001b[0m\u001b[0;34m:\u001b[0m\u001b[0mlen\u001b[0m\u001b[0;34m(\u001b[0m\u001b[0mself\u001b[0m\u001b[0;34m.\u001b[0m\u001b[0moutputs\u001b[0m\u001b[0;34m)\u001b[0m\u001b[0;34m]\u001b[0m\u001b[0;34m\u001b[0m\u001b[0m\n\u001b[1;32m   2077\u001b[0m \u001b[0;34m\u001b[0m\u001b[0m\n",
      "\u001b[0;32m/Users/berkas/anaconda/lib/python3.5/site-packages/tensorflow/python/client/session.py\u001b[0m in \u001b[0;36mrun\u001b[0;34m(self, fetches, feed_dict, options, run_metadata)\u001b[0m\n\u001b[1;32m    765\u001b[0m     \u001b[0;32mtry\u001b[0m\u001b[0;34m:\u001b[0m\u001b[0;34m\u001b[0m\u001b[0m\n\u001b[1;32m    766\u001b[0m       result = self._run(None, fetches, feed_dict, options_ptr,\n\u001b[0;32m--> 767\u001b[0;31m                          run_metadata_ptr)\n\u001b[0m\u001b[1;32m    768\u001b[0m       \u001b[0;32mif\u001b[0m \u001b[0mrun_metadata\u001b[0m\u001b[0;34m:\u001b[0m\u001b[0;34m\u001b[0m\u001b[0m\n\u001b[1;32m    769\u001b[0m         \u001b[0mproto_data\u001b[0m \u001b[0;34m=\u001b[0m \u001b[0mtf_session\u001b[0m\u001b[0;34m.\u001b[0m\u001b[0mTF_GetBuffer\u001b[0m\u001b[0;34m(\u001b[0m\u001b[0mrun_metadata_ptr\u001b[0m\u001b[0;34m)\u001b[0m\u001b[0;34m\u001b[0m\u001b[0m\n",
      "\u001b[0;32m/Users/berkas/anaconda/lib/python3.5/site-packages/tensorflow/python/client/session.py\u001b[0m in \u001b[0;36m_run\u001b[0;34m(self, handle, fetches, feed_dict, options, run_metadata)\u001b[0m\n\u001b[1;32m    963\u001b[0m     \u001b[0;32mif\u001b[0m \u001b[0mfinal_fetches\u001b[0m \u001b[0;32mor\u001b[0m \u001b[0mfinal_targets\u001b[0m\u001b[0;34m:\u001b[0m\u001b[0;34m\u001b[0m\u001b[0m\n\u001b[1;32m    964\u001b[0m       results = self._do_run(handle, final_targets, final_fetches,\n\u001b[0;32m--> 965\u001b[0;31m                              feed_dict_string, options, run_metadata)\n\u001b[0m\u001b[1;32m    966\u001b[0m     \u001b[0;32melse\u001b[0m\u001b[0;34m:\u001b[0m\u001b[0;34m\u001b[0m\u001b[0m\n\u001b[1;32m    967\u001b[0m       \u001b[0mresults\u001b[0m \u001b[0;34m=\u001b[0m \u001b[0;34m[\u001b[0m\u001b[0;34m]\u001b[0m\u001b[0;34m\u001b[0m\u001b[0m\n",
      "\u001b[0;32m/Users/berkas/anaconda/lib/python3.5/site-packages/tensorflow/python/client/session.py\u001b[0m in \u001b[0;36m_do_run\u001b[0;34m(self, handle, target_list, fetch_list, feed_dict, options, run_metadata)\u001b[0m\n\u001b[1;32m   1013\u001b[0m     \u001b[0;32mif\u001b[0m \u001b[0mhandle\u001b[0m \u001b[0;32mis\u001b[0m \u001b[0;32mNone\u001b[0m\u001b[0;34m:\u001b[0m\u001b[0;34m\u001b[0m\u001b[0m\n\u001b[1;32m   1014\u001b[0m       return self._do_call(_run_fn, self._session, feed_dict, fetch_list,\n\u001b[0;32m-> 1015\u001b[0;31m                            target_list, options, run_metadata)\n\u001b[0m\u001b[1;32m   1016\u001b[0m     \u001b[0;32melse\u001b[0m\u001b[0;34m:\u001b[0m\u001b[0;34m\u001b[0m\u001b[0m\n\u001b[1;32m   1017\u001b[0m       return self._do_call(_prun_fn, self._session, handle, feed_dict,\n",
      "\u001b[0;32m/Users/berkas/anaconda/lib/python3.5/site-packages/tensorflow/python/client/session.py\u001b[0m in \u001b[0;36m_do_call\u001b[0;34m(self, fn, *args)\u001b[0m\n\u001b[1;32m   1020\u001b[0m   \u001b[0;32mdef\u001b[0m \u001b[0m_do_call\u001b[0m\u001b[0;34m(\u001b[0m\u001b[0mself\u001b[0m\u001b[0;34m,\u001b[0m \u001b[0mfn\u001b[0m\u001b[0;34m,\u001b[0m \u001b[0;34m*\u001b[0m\u001b[0margs\u001b[0m\u001b[0;34m)\u001b[0m\u001b[0;34m:\u001b[0m\u001b[0;34m\u001b[0m\u001b[0m\n\u001b[1;32m   1021\u001b[0m     \u001b[0;32mtry\u001b[0m\u001b[0;34m:\u001b[0m\u001b[0;34m\u001b[0m\u001b[0m\n\u001b[0;32m-> 1022\u001b[0;31m       \u001b[0;32mreturn\u001b[0m \u001b[0mfn\u001b[0m\u001b[0;34m(\u001b[0m\u001b[0;34m*\u001b[0m\u001b[0margs\u001b[0m\u001b[0;34m)\u001b[0m\u001b[0;34m\u001b[0m\u001b[0m\n\u001b[0m\u001b[1;32m   1023\u001b[0m     \u001b[0;32mexcept\u001b[0m \u001b[0merrors\u001b[0m\u001b[0;34m.\u001b[0m\u001b[0mOpError\u001b[0m \u001b[0;32mas\u001b[0m \u001b[0me\u001b[0m\u001b[0;34m:\u001b[0m\u001b[0;34m\u001b[0m\u001b[0m\n\u001b[1;32m   1024\u001b[0m       \u001b[0mmessage\u001b[0m \u001b[0;34m=\u001b[0m \u001b[0mcompat\u001b[0m\u001b[0;34m.\u001b[0m\u001b[0mas_text\u001b[0m\u001b[0;34m(\u001b[0m\u001b[0me\u001b[0m\u001b[0;34m.\u001b[0m\u001b[0mmessage\u001b[0m\u001b[0;34m)\u001b[0m\u001b[0;34m\u001b[0m\u001b[0m\n",
      "\u001b[0;32m/Users/berkas/anaconda/lib/python3.5/site-packages/tensorflow/python/client/session.py\u001b[0m in \u001b[0;36m_run_fn\u001b[0;34m(session, feed_dict, fetch_list, target_list, options, run_metadata)\u001b[0m\n\u001b[1;32m   1002\u001b[0m         return tf_session.TF_Run(session, options,\n\u001b[1;32m   1003\u001b[0m                                  \u001b[0mfeed_dict\u001b[0m\u001b[0;34m,\u001b[0m \u001b[0mfetch_list\u001b[0m\u001b[0;34m,\u001b[0m \u001b[0mtarget_list\u001b[0m\u001b[0;34m,\u001b[0m\u001b[0;34m\u001b[0m\u001b[0m\n\u001b[0;32m-> 1004\u001b[0;31m                                  status, run_metadata)\n\u001b[0m\u001b[1;32m   1005\u001b[0m \u001b[0;34m\u001b[0m\u001b[0m\n\u001b[1;32m   1006\u001b[0m     \u001b[0;32mdef\u001b[0m \u001b[0m_prun_fn\u001b[0m\u001b[0;34m(\u001b[0m\u001b[0msession\u001b[0m\u001b[0;34m,\u001b[0m \u001b[0mhandle\u001b[0m\u001b[0;34m,\u001b[0m \u001b[0mfeed_dict\u001b[0m\u001b[0;34m,\u001b[0m \u001b[0mfetch_list\u001b[0m\u001b[0;34m)\u001b[0m\u001b[0;34m:\u001b[0m\u001b[0;34m\u001b[0m\u001b[0m\n",
      "\u001b[0;31mKeyboardInterrupt\u001b[0m: "
     ]
    }
   ],
   "source": [
    "model.fit_generator(\n",
    "        train_generator,\n",
    "        steps_per_epoch=2002 // batch_size,\n",
    "        epochs=50,\n",
    "        validation_data=validation_generator,\n",
    "        validation_steps=800 // batch_size)"
   ]
  },
  {
   "cell_type": "code",
   "execution_count": 29,
   "metadata": {
    "collapsed": false
   },
   "outputs": [],
   "source": [
    "model.save_weights('first_try.h5')  # always save your weights after training or during training"
   ]
  },
  {
   "cell_type": "markdown",
   "metadata": {},
   "source": [
    "## Auto-encoders in keras"
   ]
  },
  {
   "cell_type": "code",
   "execution_count": 1,
   "metadata": {
    "collapsed": true
   },
   "outputs": [],
   "source": [
    "from keras.layers import Input, Dense\n",
    "from keras.models import Model"
   ]
  },
  {
   "cell_type": "code",
   "execution_count": 2,
   "metadata": {
    "collapsed": true
   },
   "outputs": [],
   "source": [
    "# the size of our encoded representations\n",
    "encoding_dim = 32"
   ]
  },
  {
   "cell_type": "code",
   "execution_count": 3,
   "metadata": {
    "collapsed": true
   },
   "outputs": [],
   "source": [
    "# input placeholder\n",
    "input_img = Input(shape=(784,))\n",
    "# the encoded representation of the input\n",
    "encoded = Dense(encoding_dim, activation='relu')(input_img)\n",
    "# the lossy reconstruction of the input\n",
    "decoded = Dense(784, activation='sigmoid')(encoded)"
   ]
  },
  {
   "cell_type": "code",
   "execution_count": 4,
   "metadata": {
    "collapsed": true
   },
   "outputs": [],
   "source": [
    "# map an input to its reconstruction\n",
    "autoencoder = Model(input_img, decoded)"
   ]
  },
  {
   "cell_type": "code",
   "execution_count": 5,
   "metadata": {
    "collapsed": true
   },
   "outputs": [],
   "source": [
    "# map an input to its encoded representation\n",
    "encoder = Model(input_img, encoded)"
   ]
  },
  {
   "cell_type": "code",
   "execution_count": 6,
   "metadata": {
    "collapsed": true
   },
   "outputs": [],
   "source": [
    "# and make a decoder model too\n",
    "encoded_input = Input(shape=(encoding_dim,))\n",
    "# last layer of the autoencoder model\n",
    "decoder_layer = autoencoder.layers[-1]\n",
    "# create decoder model\n",
    "decoder = Model(encoded_input, decoder_layer(encoded_input))"
   ]
  },
  {
   "cell_type": "code",
   "execution_count": 7,
   "metadata": {
    "collapsed": true
   },
   "outputs": [],
   "source": [
    "autoencoder.compile(optimizer='adadelta', loss='binary_crossentropy')"
   ]
  },
  {
   "cell_type": "code",
   "execution_count": 8,
   "metadata": {
    "collapsed": true
   },
   "outputs": [],
   "source": [
    "from keras.datasets import mnist\n",
    "import numpy as np"
   ]
  },
  {
   "cell_type": "code",
   "execution_count": 9,
   "metadata": {
    "collapsed": true
   },
   "outputs": [],
   "source": [
    "(x_train, y_train), (x_test, y_test) = mnist.load_data()"
   ]
  },
  {
   "cell_type": "code",
   "execution_count": 10,
   "metadata": {
    "collapsed": false
   },
   "outputs": [
    {
     "name": "stdout",
     "output_type": "stream",
     "text": [
      "(60000, 784)\n",
      "(10000, 784)\n"
     ]
    }
   ],
   "source": [
    "x_train = x_train.astype('float32') / 255.\n",
    "x_test = x_test.astype('float32') / 255.\n",
    "x_train = x_train.reshape((len(x_train), np.prod(x_train.shape[1:])))\n",
    "x_test = x_test.reshape((len(x_test), np.prod(x_test.shape[1:])))\n",
    "print(x_train.shape)\n",
    "print(x_test.shape)"
   ]
  },
  {
   "cell_type": "code",
   "execution_count": 11,
   "metadata": {
    "collapsed": false,
    "scrolled": true
   },
   "outputs": [
    {
     "name": "stdout",
     "output_type": "stream",
     "text": [
      "Train on 60000 samples, validate on 10000 samples\n",
      "Epoch 1/50\n",
      "60000/60000 [==============================] - 3s - loss: 0.3748 - val_loss: 0.2723\n",
      "Epoch 2/50\n",
      "60000/60000 [==============================] - 3s - loss: 0.2649 - val_loss: 0.2542\n",
      "Epoch 3/50\n",
      "60000/60000 [==============================] - 3s - loss: 0.2438 - val_loss: 0.2311\n",
      "Epoch 4/50\n",
      "60000/60000 [==============================] - 2s - loss: 0.2233 - val_loss: 0.2132\n",
      "Epoch 5/50\n",
      "60000/60000 [==============================] - 2s - loss: 0.2080 - val_loss: 0.2003\n",
      "Epoch 6/50\n",
      "60000/60000 [==============================] - 2s - loss: 0.1968 - val_loss: 0.1907\n",
      "Epoch 7/50\n",
      "60000/60000 [==============================] - 2s - loss: 0.1882 - val_loss: 0.1830\n",
      "Epoch 8/50\n",
      "60000/60000 [==============================] - 2s - loss: 0.1812 - val_loss: 0.1767\n",
      "Epoch 9/50\n",
      "60000/60000 [==============================] - 2s - loss: 0.1754 - val_loss: 0.1714\n",
      "Epoch 10/50\n",
      "60000/60000 [==============================] - 2s - loss: 0.1702 - val_loss: 0.1665\n",
      "Epoch 11/50\n",
      "60000/60000 [==============================] - 2s - loss: 0.1656 - val_loss: 0.1621\n",
      "Epoch 12/50\n",
      "60000/60000 [==============================] - 2s - loss: 0.1612 - val_loss: 0.1579\n",
      "Epoch 13/50\n",
      "60000/60000 [==============================] - 2s - loss: 0.1573 - val_loss: 0.1541\n",
      "Epoch 14/50\n",
      "60000/60000 [==============================] - 2s - loss: 0.1536 - val_loss: 0.1506\n",
      "Epoch 15/50\n",
      "60000/60000 [==============================] - 2s - loss: 0.1503 - val_loss: 0.1475\n",
      "Epoch 16/50\n",
      "60000/60000 [==============================] - 2s - loss: 0.1472 - val_loss: 0.1444\n",
      "Epoch 17/50\n",
      "60000/60000 [==============================] - 2s - loss: 0.1443 - val_loss: 0.1416\n",
      "Epoch 18/50\n",
      "60000/60000 [==============================] - 3s - loss: 0.1417 - val_loss: 0.1391\n",
      "Epoch 19/50\n",
      "60000/60000 [==============================] - 3s - loss: 0.1393 - val_loss: 0.1367\n",
      "Epoch 20/50\n",
      "60000/60000 [==============================] - 2s - loss: 0.1371 - val_loss: 0.1346\n",
      "Epoch 21/50\n",
      "60000/60000 [==============================] - 2s - loss: 0.1350 - val_loss: 0.1325\n",
      "Epoch 22/50\n",
      "60000/60000 [==============================] - 2s - loss: 0.1330 - val_loss: 0.1305\n",
      "Epoch 23/50\n",
      "60000/60000 [==============================] - 2s - loss: 0.1311 - val_loss: 0.1287\n",
      "Epoch 24/50\n",
      "60000/60000 [==============================] - 2s - loss: 0.1294 - val_loss: 0.1269\n",
      "Epoch 25/50\n",
      "60000/60000 [==============================] - 2s - loss: 0.1277 - val_loss: 0.1253\n",
      "Epoch 26/50\n",
      "60000/60000 [==============================] - 2s - loss: 0.1261 - val_loss: 0.1237\n",
      "Epoch 27/50\n",
      "60000/60000 [==============================] - 2s - loss: 0.1245 - val_loss: 0.1224\n",
      "Epoch 28/50\n",
      "60000/60000 [==============================] - 2s - loss: 0.1230 - val_loss: 0.1208\n",
      "Epoch 29/50\n",
      "60000/60000 [==============================] - 2s - loss: 0.1216 - val_loss: 0.1194\n",
      "Epoch 30/50\n",
      "60000/60000 [==============================] - 2s - loss: 0.1203 - val_loss: 0.1181\n",
      "Epoch 31/50\n",
      "60000/60000 [==============================] - 2s - loss: 0.1190 - val_loss: 0.1168\n",
      "Epoch 32/50\n",
      "60000/60000 [==============================] - 2s - loss: 0.1178 - val_loss: 0.1157\n",
      "Epoch 33/50\n",
      "60000/60000 [==============================] - 2s - loss: 0.1167 - val_loss: 0.1146\n",
      "Epoch 34/50\n",
      "60000/60000 [==============================] - 2s - loss: 0.1156 - val_loss: 0.1135\n",
      "Epoch 35/50\n",
      "60000/60000 [==============================] - 2s - loss: 0.1146 - val_loss: 0.1126\n",
      "Epoch 36/50\n",
      "60000/60000 [==============================] - 2s - loss: 0.1136 - val_loss: 0.1116\n",
      "Epoch 37/50\n",
      "60000/60000 [==============================] - 2s - loss: 0.1128 - val_loss: 0.1108\n",
      "Epoch 38/50\n",
      "60000/60000 [==============================] - 2s - loss: 0.1119 - val_loss: 0.1100\n",
      "Epoch 39/50\n",
      "60000/60000 [==============================] - 2s - loss: 0.1111 - val_loss: 0.1092\n",
      "Epoch 40/50\n",
      "60000/60000 [==============================] - 2s - loss: 0.1104 - val_loss: 0.1085\n",
      "Epoch 41/50\n",
      "60000/60000 [==============================] - 2s - loss: 0.1097 - val_loss: 0.1078\n",
      "Epoch 42/50\n",
      "60000/60000 [==============================] - 2s - loss: 0.1090 - val_loss: 0.1072\n",
      "Epoch 43/50\n",
      "60000/60000 [==============================] - 2s - loss: 0.1084 - val_loss: 0.1065\n",
      "Epoch 44/50\n",
      "60000/60000 [==============================] - 2s - loss: 0.1078 - val_loss: 0.1059\n",
      "Epoch 45/50\n",
      "60000/60000 [==============================] - 2s - loss: 0.1072 - val_loss: 0.1054\n",
      "Epoch 46/50\n",
      "60000/60000 [==============================] - 2s - loss: 0.1067 - val_loss: 0.1049\n",
      "Epoch 47/50\n",
      "60000/60000 [==============================] - 2s - loss: 0.1062 - val_loss: 0.1043\n",
      "Epoch 48/50\n",
      "60000/60000 [==============================] - 2s - loss: 0.1057 - val_loss: 0.1039\n",
      "Epoch 49/50\n",
      "60000/60000 [==============================] - 2s - loss: 0.1052 - val_loss: 0.1034\n",
      "Epoch 50/50\n",
      "60000/60000 [==============================] - 2s - loss: 0.1048 - val_loss: 0.1030\n"
     ]
    },
    {
     "data": {
      "text/plain": [
       "<keras.callbacks.History at 0x11bc2dfd0>"
      ]
     },
     "execution_count": 11,
     "metadata": {},
     "output_type": "execute_result"
    }
   ],
   "source": [
    "autoencoder.fit(x_train, x_train, epochs=50, batch_size=256, \n",
    "                shuffle=True, validation_data=(x_test, x_test))"
   ]
  },
  {
   "cell_type": "markdown",
   "metadata": {},
   "source": [
    "### Visualize performance\n",
    "Now we'll visualize the AE's performance."
   ]
  },
  {
   "cell_type": "code",
   "execution_count": 12,
   "metadata": {
    "collapsed": true
   },
   "outputs": [],
   "source": [
    "encoded_imgs = encoder.predict(x_test)\n",
    "decoded_imgs = decoder.predict(encoded_imgs)"
   ]
  },
  {
   "cell_type": "code",
   "execution_count": 15,
   "metadata": {
    "collapsed": true
   },
   "outputs": [],
   "source": [
    "import matplotlib.pyplot as plt\n",
    "%matplotlib inline"
   ]
  },
  {
   "cell_type": "code",
   "execution_count": 16,
   "metadata": {
    "collapsed": false
   },
   "outputs": [
    {
     "data": {
      "image/png": "[encoded data removed]",
      "text/plain": [
       "<matplotlib.figure.Figure at 0x1217cf160>"
      ]
     },
     "metadata": {},
     "output_type": "display_data"
    }
   ],
   "source": [
    "n = 10\n",
    "plt.figure(figsize=(20,4))\n",
    "for i in range(n):\n",
    "    # display original\n",
    "    ax = plt.subplot(2, n, i+1)\n",
    "    plt.imshow(x_test[i].reshape(28,28))\n",
    "    plt.gray()\n",
    "    ax.get_xaxis().set_visible(False)\n",
    "    ax.get_yaxis().set_visible(False)\n",
    "    \n",
    "    # display reconstruction\n",
    "    ax = plt.subplot(2, n, i + 1 + n)\n",
    "    plt.imshow(decoded_imgs[i].reshape(28, 28))\n",
    "    plt.gray()\n",
    "    ax.get_xaxis().set_visible(False)\n",
    "    ax.get_yaxis().set_visible(False)"
   ]
  },
  {
   "cell_type": "code",
   "execution_count": 18,
   "metadata": {
    "collapsed": false
   },
   "outputs": [
    {
     "data": {
      "image/png": "[encoded data removed]",
      "text/plain": [
       "<matplotlib.figure.Figure at 0x1193f1e10>"
      ]
     },
     "metadata": {},
     "output_type": "display_data"
    }
   ],
   "source": [
    "n = 10\n",
    "plt.figure(figsize=(20,2))\n",
    "for i in range(n):\n",
    "    # display original\n",
    "    ax = plt.subplot(1, n, i+1)\n",
    "    plt.imshow(encoded_imgs[i].reshape(4,8))\n",
    "    plt.gray()\n",
    "    ax.get_xaxis().set_visible(False)\n",
    "    ax.get_yaxis().set_visible(False)"
   ]
  },
  {
   "cell_type": "markdown",
   "metadata": {},
   "source": [
    "### Parsing the encoded representation\n",
    "Let's try to determine what each pixel in the implicit representation is encoding for. "
   ]
  },
  {
   "cell_type": "code",
   "execution_count": 23,
   "metadata": {
    "collapsed": true
   },
   "outputs": [],
   "source": [
    "encoding_basis = np.eye(encoding_dim)"
   ]
  },
  {
   "cell_type": "code",
   "execution_count": 27,
   "metadata": {
    "collapsed": true
   },
   "outputs": [],
   "source": [
    "decoded_basis = decoder.predict(encoding_basis)"
   ]
  },
  {
   "cell_type": "code",
   "execution_count": 30,
   "metadata": {
    "collapsed": false,
    "scrolled": true
   },
   "outputs": [
    {
     "data": {
      "image/png": "[encoded data removed]",
      "text/plain": [
       "<matplotlib.figure.Figure at 0x121641898>"
      ]
     },
     "metadata": {},
     "output_type": "display_data"
    }
   ],
   "source": [
    "n = 10\n",
    "plt.figure(figsize=(20,4))\n",
    "for i in range(n):\n",
    "    ax = plt.subplot(2, n, i+1)\n",
    "    plt.imshow(decoded_basis[i].reshape(28,28))\n",
    "    plt.gray()\n",
    "    ax.get_xaxis().set_visible(False)\n",
    "    ax.get_yaxis().set_visible(False)\n",
    "\n",
    "    ax = plt.subplot(2, n, n+i+1)\n",
    "    plt.imshow(decoded_basis[n+i].reshape(28,28))\n",
    "    plt.gray()\n",
    "    ax.get_xaxis().set_visible(False)\n",
    "    ax.get_yaxis().set_visible(False)"
   ]
  },
  {
   "cell_type": "markdown",
   "metadata": {},
   "source": [
    "## Method 2 for auto-encoders in keras"
   ]
  },
  {
   "cell_type": "code",
   "execution_count": 1,
   "metadata": {
    "collapsed": false
   },
   "outputs": [
    {
     "name": "stderr",
     "output_type": "stream",
     "text": [
      "Using TensorFlow backend.\n"
     ]
    }
   ],
   "source": [
    "from keras.layers import Input, Dense\n",
    "from keras.models import Model"
   ]
  },
  {
   "cell_type": "code",
   "execution_count": 33,
   "metadata": {
    "collapsed": true
   },
   "outputs": [],
   "source": [
    "from keras import regularizers"
   ]
  },
  {
   "cell_type": "code",
   "execution_count": 2,
   "metadata": {
    "collapsed": true
   },
   "outputs": [],
   "source": [
    "# the size of our encoded representations\n",
    "encoding_dim = 32"
   ]
  },
  {
   "cell_type": "code",
   "execution_count": 34,
   "metadata": {
    "collapsed": false
   },
   "outputs": [],
   "source": [
    "# input placeholder\n",
    "input_img = Input(shape=(784,))\n",
    "# the encoded representation of the input\n",
    "encoded = Dense(2*encoding_dim, activation='relu')(input_img)\n",
    "encoded = Dense(encoding_dim, activation='relu', activity_regularizer=regularizers.l1(10e-5))(encoded)\n",
    "encoder = Model(input_img, encoded)"
   ]
  },
  {
   "cell_type": "code",
   "execution_count": 35,
   "metadata": {
    "collapsed": false
   },
   "outputs": [],
   "source": [
    "input_enc = Input(shape=(encoding_dim,))\n",
    "# the lossy reconstruction of the input\n",
    "decoded = Dense(2*encoding_dim, activation='relu')(input_enc)\n",
    "decoded = Dense(784, activation='sigmoid')(decoded)\n",
    "decoder = Model(input_enc, decoded)\n",
    "\n",
    "#ae = Model(input_img, decoder(encoder(input_img)))\n",
    "ae = Model(encoder.get_input_at(0), \n",
    "           decoder(encoder.get_output_at(-1)))"
   ]
  },
  {
   "cell_type": "code",
   "execution_count": 36,
   "metadata": {
    "collapsed": true
   },
   "outputs": [],
   "source": [
    "ae.compile('adadelta', 'categorical_crossentropy')"
   ]
  },
  {
   "cell_type": "code",
   "execution_count": 10,
   "metadata": {
    "collapsed": true
   },
   "outputs": [],
   "source": [
    "from keras.datasets import mnist\n",
    "import numpy as np"
   ]
  },
  {
   "cell_type": "code",
   "execution_count": 24,
   "metadata": {
    "collapsed": true
   },
   "outputs": [],
   "source": [
    "(x_train, y_train), (x_test, y_test) = mnist.load_data()"
   ]
  },
  {
   "cell_type": "code",
   "execution_count": 25,
   "metadata": {
    "collapsed": false
   },
   "outputs": [
    {
     "name": "stdout",
     "output_type": "stream",
     "text": [
      "(60000, 784)\n",
      "(10000, 784)\n"
     ]
    }
   ],
   "source": [
    "x_train = x_train.astype('float32') / 255.\n",
    "x_test = x_test.astype('float32') / 255.\n",
    "x_train = x_train.reshape((len(x_train), np.prod(x_train.shape[1:])))\n",
    "x_test = x_test.reshape((len(x_test), np.prod(x_test.shape[1:])))\n",
    "print(x_train.shape)\n",
    "print(x_test.shape)"
   ]
  },
  {
   "cell_type": "code",
   "execution_count": 37,
   "metadata": {
    "collapsed": false,
    "scrolled": true
   },
   "outputs": [
    {
     "name": "stdout",
     "output_type": "stream",
     "text": [
      "Train on 60000 samples, validate on 10000 samples\n",
      "Epoch 1/50\n",
      "60000/60000 [==============================] - 4s - loss: 577.5830 - val_loss: 560.4939\n",
      "Epoch 2/50\n",
      "60000/60000 [==============================] - 4s - loss: 547.0406 - val_loss: 550.7185\n",
      "Epoch 3/50\n",
      "60000/60000 [==============================] - 5s - loss: 540.0173 - val_loss: 545.1721\n",
      "Epoch 4/50\n",
      "60000/60000 [==============================] - 5s - loss: 536.0194 - val_loss: 542.3415\n",
      "Epoch 5/50\n",
      "60000/60000 [==============================] - 4s - loss: 533.2343 - val_loss: 539.3291\n",
      "Epoch 6/50\n",
      "60000/60000 [==============================] - 4s - loss: 531.1764 - val_loss: 537.8197\n",
      "Epoch 7/50\n",
      "60000/60000 [==============================] - 4s - loss: 529.4257 - val_loss: 536.4978\n",
      "Epoch 8/50\n",
      "60000/60000 [==============================] - 4s - loss: 528.0575 - val_loss: 535.3364\n",
      "Epoch 9/50\n",
      "60000/60000 [==============================] - 4s - loss: 527.0243 - val_loss: 534.3760\n",
      "Epoch 10/50\n",
      "60000/60000 [==============================] - 4s - loss: 526.1616 - val_loss: 533.5762\n",
      "Epoch 11/50\n",
      "60000/60000 [==============================] - 4s - loss: 525.4476 - val_loss: 532.7167\n",
      "Epoch 12/50\n",
      "60000/60000 [==============================] - 4s - loss: 524.8032 - val_loss: 532.2045\n",
      "Epoch 13/50\n",
      "60000/60000 [==============================] - 4s - loss: 524.2522 - val_loss: 531.5739\n",
      "Epoch 14/50\n",
      "60000/60000 [==============================] - 4s - loss: 523.7481 - val_loss: 531.2108\n",
      "Epoch 15/50\n",
      "60000/60000 [==============================] - 4s - loss: 523.3588 - val_loss: 530.9736\n",
      "Epoch 16/50\n",
      "60000/60000 [==============================] - 4s - loss: 522.9482 - val_loss: 530.4878\n",
      "Epoch 17/50\n",
      "60000/60000 [==============================] - 4s - loss: 522.6617 - val_loss: 530.3742\n",
      "Epoch 18/50\n",
      "60000/60000 [==============================] - 4s - loss: 522.3155 - val_loss: 529.9302\n",
      "Epoch 19/50\n",
      "60000/60000 [==============================] - 4s - loss: 522.0363 - val_loss: 529.6834\n",
      "Epoch 20/50\n",
      "60000/60000 [==============================] - 4s - loss: 521.8097 - val_loss: 529.5822\n",
      "Epoch 21/50\n",
      "60000/60000 [==============================] - 4s - loss: 521.5138 - val_loss: 529.1451\n",
      "Epoch 22/50\n",
      "60000/60000 [==============================] - 4s - loss: 521.3365 - val_loss: 529.0800\n",
      "Epoch 23/50\n",
      "60000/60000 [==============================] - 4s - loss: 521.0448 - val_loss: 528.6459\n",
      "Epoch 24/50\n",
      "60000/60000 [==============================] - 5s - loss: 520.8628 - val_loss: 528.9514\n",
      "Epoch 25/50\n",
      "60000/60000 [==============================] - 4s - loss: 520.6633 - val_loss: 528.3923\n",
      "Epoch 26/50\n",
      "60000/60000 [==============================] - 4s - loss: 520.4146 - val_loss: 528.3685\n",
      "Epoch 27/50\n",
      "60000/60000 [==============================] - 4s - loss: 520.2866 - val_loss: 528.1801\n",
      "Epoch 28/50\n",
      "60000/60000 [==============================] - 4s - loss: 520.0934 - val_loss: 527.9008\n",
      "Epoch 29/50\n",
      "60000/60000 [==============================] - 4s - loss: 519.8592 - val_loss: 527.6907\n",
      "Epoch 30/50\n",
      "60000/60000 [==============================] - 5s - loss: 519.7050 - val_loss: 527.3498\n",
      "Epoch 31/50\n",
      "60000/60000 [==============================] - 4s - loss: 519.5577 - val_loss: 527.1891\n",
      "Epoch 32/50\n",
      "60000/60000 [==============================] - 4s - loss: 519.4292 - val_loss: 527.2574\n",
      "Epoch 33/50\n",
      "60000/60000 [==============================] - 4s - loss: 519.2889 - val_loss: 527.0976\n",
      "Epoch 34/50\n",
      "60000/60000 [==============================] - 4s - loss: 519.1239 - val_loss: 526.8811\n",
      "Epoch 35/50\n",
      "60000/60000 [==============================] - 4s - loss: 519.0166 - val_loss: 526.9838\n",
      "Epoch 36/50\n",
      "60000/60000 [==============================] - 4s - loss: 518.8661 - val_loss: 526.9031\n",
      "Epoch 37/50\n",
      "60000/60000 [==============================] - 4s - loss: 518.7647 - val_loss: 526.7284\n",
      "Epoch 38/50\n",
      "60000/60000 [==============================] - 4s - loss: 518.6530 - val_loss: 526.4328\n",
      "Epoch 39/50\n",
      "60000/60000 [==============================] - 4s - loss: 518.5190 - val_loss: 526.2633\n",
      "Epoch 40/50\n",
      "60000/60000 [==============================] - 4s - loss: 518.4247 - val_loss: 526.3535\n",
      "Epoch 41/50\n",
      "60000/60000 [==============================] - 4s - loss: 518.2953 - val_loss: 526.0260\n",
      "Epoch 42/50\n",
      "60000/60000 [==============================] - 4s - loss: 518.2261 - val_loss: 526.0385\n",
      "Epoch 43/50\n",
      "60000/60000 [==============================] - 4s - loss: 518.0814 - val_loss: 526.1166\n",
      "Epoch 44/50\n",
      "60000/60000 [==============================] - 4s - loss: 517.9993 - val_loss: 525.9902\n",
      "Epoch 45/50\n",
      "60000/60000 [==============================] - 4s - loss: 517.8828 - val_loss: 525.8196\n",
      "Epoch 46/50\n",
      "60000/60000 [==============================] - 4s - loss: 517.8293 - val_loss: 525.5565\n",
      "Epoch 47/50\n",
      "60000/60000 [==============================] - 4s - loss: 517.6726 - val_loss: 525.7491\n",
      "Epoch 48/50\n",
      "60000/60000 [==============================] - 4s - loss: 517.6003 - val_loss: 525.6359\n",
      "Epoch 49/50\n",
      "60000/60000 [==============================] - 4s - loss: 517.5551 - val_loss: 525.4651\n",
      "Epoch 50/50\n",
      "60000/60000 [==============================] - 4s - loss: 517.4292 - val_loss: 525.2064\n"
     ]
    },
    {
     "data": {
      "text/plain": [
       "<keras.callbacks.History at 0x1209bea58>"
      ]
     },
     "execution_count": 37,
     "metadata": {},
     "output_type": "execute_result"
    }
   ],
   "source": [
    "ae.fit(x_train, x_train, epochs=50, batch_size=256, \n",
    "       shuffle=True, validation_data=(x_test, x_test))"
   ]
  },
  {
   "cell_type": "markdown",
   "metadata": {},
   "source": [
    "### Visualize performance\n",
    "Now we'll visualize the AE's performance."
   ]
  },
  {
   "cell_type": "code",
   "execution_count": 38,
   "metadata": {
    "collapsed": true
   },
   "outputs": [],
   "source": [
    "encoded_imgs = encoder.predict(x_test)\n",
    "decoded_imgs = decoder.predict(encoded_imgs)"
   ]
  },
  {
   "cell_type": "code",
   "execution_count": 39,
   "metadata": {
    "collapsed": true
   },
   "outputs": [],
   "source": [
    "import matplotlib.pyplot as plt\n",
    "%matplotlib inline"
   ]
  },
  {
   "cell_type": "code",
   "execution_count": 40,
   "metadata": {
    "collapsed": false
   },
   "outputs": [
    {
     "data": {
      "image/png": "[encoded data removed]",
      "text/plain": [
       "<matplotlib.figure.Figure at 0x12074d208>"
      ]
     },
     "metadata": {},
     "output_type": "display_data"
    }
   ],
   "source": [
    "n = 10\n",
    "plt.figure(figsize=(20,4))\n",
    "for i in range(n):\n",
    "    # display original\n",
    "    ax = plt.subplot(2, n, i+1)\n",
    "    plt.imshow(x_test[i].reshape(28,28))\n",
    "    plt.gray()\n",
    "    ax.get_xaxis().set_visible(False)\n",
    "    ax.get_yaxis().set_visible(False)\n",
    "    \n",
    "    # display reconstruction\n",
    "    ax = plt.subplot(2, n, i + 1 + n)\n",
    "    plt.imshow(decoded_imgs[i].reshape(28, 28))\n",
    "    plt.gray()\n",
    "    ax.get_xaxis().set_visible(False)\n",
    "    ax.get_yaxis().set_visible(False)"
   ]
  },
  {
   "cell_type": "code",
   "execution_count": 41,
   "metadata": {
    "collapsed": false
   },
   "outputs": [
    {
     "data": {
      "image/png": "[encoded data removed]",
      "text/plain": [
       "<matplotlib.figure.Figure at 0x11c7c3ef0>"
      ]
     },
     "metadata": {},
     "output_type": "display_data"
    }
   ],
   "source": [
    "n = 10\n",
    "plt.figure(figsize=(20,2))\n",
    "for i in range(n):\n",
    "    # display original\n",
    "    ax = plt.subplot(1, n, i+1)\n",
    "    plt.imshow(encoded_imgs[i].reshape(4,8))\n",
    "    plt.gray()\n",
    "    ax.get_xaxis().set_visible(False)\n",
    "    ax.get_yaxis().set_visible(False)"
   ]
  },
  {
   "cell_type": "markdown",
   "metadata": {},
   "source": [
    "### Summarize the above"
   ]
  },
  {
   "cell_type": "code",
   "execution_count": 42,
   "metadata": {
    "collapsed": false
   },
   "outputs": [
    {
     "data": {
      "text/plain": [
       "105392"
      ]
     },
     "execution_count": 42,
     "metadata": {},
     "output_type": "execute_result"
    }
   ],
   "source": [
    "ae.count_params()"
   ]
  },
  {
   "cell_type": "code",
   "execution_count": 43,
   "metadata": {
    "collapsed": false
   },
   "outputs": [
    {
     "name": "stdout",
     "output_type": "stream",
     "text": [
      "_________________________________________________________________\n",
      "Layer (type)                 Output Shape              Param #   \n",
      "=================================================================\n",
      "input_8 (InputLayer)         (None, 784)               0         \n",
      "_________________________________________________________________\n",
      "dense_9 (Dense)              (None, 64)                50240     \n",
      "_________________________________________________________________\n",
      "dense_10 (Dense)             (None, 32)                2080      \n",
      "_________________________________________________________________\n",
      "model_12 (Model)             (None, 784)               53072     \n",
      "=================================================================\n",
      "Total params: 105,392.0\n",
      "Trainable params: 105,392.0\n",
      "Non-trainable params: 0.0\n",
      "_________________________________________________________________\n"
     ]
    }
   ],
   "source": [
    "ae.summary()"
   ]
  },
  {
   "cell_type": "code",
   "execution_count": 44,
   "metadata": {
    "collapsed": true
   },
   "outputs": [],
   "source": [
    "ae.save('./basic_autoencoder.hdf5')\n",
    "ae.save_weights('./basic_autoencoder_weights.hdf5')"
   ]
  },
  {
   "cell_type": "markdown",
   "metadata": {},
   "source": [
    "# Variance Ratio for Active Learning"
   ]
  },
  {
   "cell_type": "code",
   "execution_count": null,
   "metadata": {
    "collapsed": true
   },
   "outputs": [],
   "source": [
    "from keras.datasets import mnist\n",
    "from keras.preprocessing.image import ImageDataGenerator\n",
    "from keras.models import Sequential\n",
    "from keras.layers.core import Dense, Dropout, Activation, Flatten\n",
    "from keras.layers.convolutional import Convolution2D, MaxPooling2D\n",
    "from keras.optimizers import SGD, Adadelta, Adagrad, Adam\n",
    "from keras.utils import np_utils, generic_utils"
   ]
  },
  {
   "cell_type": "markdown",
   "metadata": {},
   "source": [
    "# Building a network for image labelling that reads in images from a directory"
   ]
  },
  {
   "cell_type": "code",
   "execution_count": null,
   "metadata": {
    "collapsed": true
   },
   "outputs": [],
   "source": []
  }
 ],
 "metadata": {
  "kernelspec": {
   "display_name": "Python 3",
   "language": "python",
   "name": "python3"
  },
  "language_info": {
   "codemirror_mode": {
    "name": "ipython",
    "version": 3
   },
   "file_extension": ".py",
   "mimetype": "text/x-python",
   "name": "python",
   "nbconvert_exporter": "python",
   "pygments_lexer": "ipython3",
   "version": "3.5.2"
  },
  "toc": {
   "nav_menu": {
    "height": "84px",
    "width": "252px"
   },
   "navigate_menu": true,
   "number_sections": true,
   "sideBar": true,
   "threshold": 4,
   "toc_cell": true,
   "toc_section_display": "block",
   "toc_window_display": false
  }
 },
 "nbformat": 4,
 "nbformat_minor": 1
}
