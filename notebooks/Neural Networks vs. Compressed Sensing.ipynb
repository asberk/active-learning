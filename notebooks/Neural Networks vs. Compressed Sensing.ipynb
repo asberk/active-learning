{
 "cells": [
  {
   "cell_type": "markdown",
   "metadata": {
    "toc": "true"
   },
   "source": [
    "# Table of Contents\n",
    " <p><div class=\"lev1 toc-item\"><a href=\"#1-bit-matrix-completion-with-neural-networks\" data-toc-modified-id=\"1-bit-matrix-completion-with-neural-networks-1\"><span class=\"toc-item-num\">1&nbsp;&nbsp;</span>1-bit matrix completion with neural networks</a></div><div class=\"lev1 toc-item\"><a href=\"#MRI-Inversion-with-Neural-Networks\" data-toc-modified-id=\"MRI-Inversion-with-Neural-Networks-2\"><span class=\"toc-item-num\">2&nbsp;&nbsp;</span>MRI Inversion with Neural Networks</a></div>"
   ]
  },
  {
   "cell_type": "markdown",
   "metadata": {},
   "source": [
    "# 1-bit matrix completion with neural networks"
   ]
  },
  {
   "cell_type": "markdown",
   "metadata": {},
   "source": [
    "The goal of this section is to test the performance of neural networks on the 1-bit matrix completion problem (and compare it to the performance of compressed sensing machinery). "
   ]
  },
  {
   "cell_type": "markdown",
   "metadata": {},
   "source": [
    "References:  \n",
    "1. [Michael Davenport](http://mdav.ece.gatech.edu/software/)\n",
    "2. [1-bit matrix completion paper](https://arxiv.org/pdf/1209.3672.pdf)\n",
    "3. [MovieLens data](https://grouplens.org/datasets/movielens/)"
   ]
  },
  {
   "cell_type": "markdown",
   "metadata": {},
   "source": [
    "# MRI Inversion with Neural Networks"
   ]
  },
  {
   "cell_type": "markdown",
   "metadata": {
    "collapsed": true
   },
   "source": [
    "Get some MRI data and see if neural networks can do a better job inverting than compressed sensing can. \n",
    "\n",
    "Note that NNs have a higher chance here because the sparsity isn't as perfect as in the case of various toy examples. "
   ]
  }
 ],
 "metadata": {
  "kernelspec": {
   "display_name": "Python 3",
   "language": "python",
   "name": "python3"
  },
  "language_info": {
   "codemirror_mode": {
    "name": "ipython",
    "version": 3
   },
   "file_extension": ".py",
   "mimetype": "text/x-python",
   "name": "python",
   "nbconvert_exporter": "python",
   "pygments_lexer": "ipython3",
   "version": "3.5.2"
  },
  "toc": {
   "nav_menu": {
    "height": "48px",
    "width": "252px"
   },
   "navigate_menu": true,
   "number_sections": true,
   "sideBar": true,
   "threshold": 4,
   "toc_cell": true,
   "toc_section_display": "block",
   "toc_window_display": false
  }
 },
 "nbformat": 4,
 "nbformat_minor": 1
}
