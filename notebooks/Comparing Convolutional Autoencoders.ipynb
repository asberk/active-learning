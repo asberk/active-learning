{
 "cells": [
  {
   "cell_type": "markdown",
   "metadata": {
    "toc": "true"
   },
   "source": [
    "# Table of Contents\n",
    " <p><div class=\"lev1 toc-item\"><a href=\"#Toy-example\" data-toc-modified-id=\"Toy-example-1\"><span class=\"toc-item-num\">1&nbsp;&nbsp;</span>Toy example</a></div>"
   ]
  },
  {
   "cell_type": "code",
   "execution_count": 1,
   "metadata": {
    "collapsed": false
   },
   "outputs": [
    {
     "name": "stderr",
     "output_type": "stream",
     "text": [
      "Using TensorFlow backend.\n"
     ]
    }
   ],
   "source": [
    "from keras import backend as K\n",
    "\n",
    "from keras.layers import Input, Conv2D, Dense, Dropout, Flatten\n",
    "from keras.layers import MaxPooling2D, Reshape, UpSampling2D\n",
    "from keras import regularizers\n",
    "\n",
    "from keras.models import Model\n",
    "\n",
    "import numpy as np\n",
    "import matplotlib.pyplot as plt\n",
    "\n",
    "from keras.datasets import mnist"
   ]
  },
  {
   "cell_type": "code",
   "execution_count": 2,
   "metadata": {
    "collapsed": true
   },
   "outputs": [],
   "source": [
    "def create_basic_encoder(input_shape,\n",
    "                         name='basic_encoder'):\n",
    "    input_img = Input(input_shape)\n",
    "    x = Conv2D(16, (3, 3), activation='relu', padding='same')(input_img)\n",
    "    x = MaxPooling2D(pool_size=(2, 2), padding='same')(x)\n",
    "    x = Conv2D(8, (3, 3), activation='relu', padding='same')(x)\n",
    "    x = MaxPooling2D(pool_size=(2, 2), padding='same')(x)\n",
    "    x = Conv2D(8, (3, 3), activation='relu', padding='same')(x)\n",
    "    encoded = MaxPooling2D((2, 2), padding='same')(x)\n",
    "    return Model(input_img, encoded, name=name)\n",
    "\n",
    "def create_basic_decoder(input_shape,\n",
    "                         name='basic_decoder'):\n",
    "    input_enc = Input(shape=input_shape)\n",
    "    y = Conv2D(8, (3, 3), activation='relu', padding='same')(input_enc)\n",
    "    y = UpSampling2D((2, 2))(y)\n",
    "    y = Conv2D(8, (3, 3), activation='relu', padding='same')(y)\n",
    "    y = UpSampling2D((2, 2))(y)\n",
    "    y = Conv2D(16, (3, 3), activation='relu')(y)\n",
    "    y = UpSampling2D((2, 2))(y)\n",
    "    decoded = Conv2D(1, (3, 3), activation='sigmoid', padding='same')(y)\n",
    "    return Model(input_enc, decoded, name=name)"
   ]
  },
  {
   "cell_type": "code",
   "execution_count": 3,
   "metadata": {
    "collapsed": true
   },
   "outputs": [],
   "source": [
    "def create_autoencoder(encoder, decoder, name=None):\n",
    "    return Model(encoder.inputs,\n",
    "                 decoder(encoder.outputs),\n",
    "                 name=name)"
   ]
  },
  {
   "cell_type": "code",
   "execution_count": 4,
   "metadata": {
    "collapsed": true
   },
   "outputs": [],
   "source": [
    "def load_data():\n",
    "    (x_train, y_train), (x_test, y_test) = mnist.load_data()\n",
    "    x_train = x_train.astype('float32') / 255.\n",
    "    x_test = x_test.astype('float32') / 255.\n",
    "    x_train = np.reshape(x_train, (len(x_train), 28, 28, 1))\n",
    "    x_test = np.reshape(x_test, (len(x_test), 28, 28, 1))\n",
    "    return ((x_train, y_train), (x_test, y_test))"
   ]
  },
  {
   "cell_type": "code",
   "execution_count": 5,
   "metadata": {
    "collapsed": true
   },
   "outputs": [],
   "source": [
    "def simple_convolutional_autoencoder(input_shape=None,\n",
    "                                     encoding_shape=None):\n",
    "    # Make Encoder\n",
    "    if input_shape is None:\n",
    "        input_shape = (28, 28, 1)\n",
    "    encoder = create_basic_encoder(input_shape)\n",
    "    # Make Decoder\n",
    "    if encoding_shape is None:\n",
    "        encoded_shape = encoder.output_shape[1:]\n",
    "        # encoded_shape = (4, 4, 8)\n",
    "    decoder = create_basic_decoder(encoded_shape)\n",
    "    # Make Autoencoder\n",
    "    autoencoder = create_autoencoder(encoder, decoder,\n",
    "                                     name='simple_convolutional_ae')\n",
    "    autoencoder.compile(optimizer='adadelta', loss='binary_crossentropy')\n",
    "    return (autoencoder, encoder, decoder)"
   ]
  },
  {
   "cell_type": "code",
   "execution_count": 6,
   "metadata": {
    "collapsed": true
   },
   "outputs": [],
   "source": [
    "def regularized_convolutional_autoencoder(input_shape=None,\n",
    "                                          encoded_size=None,\n",
    "                                          regularizer=None):\n",
    "    # Make Encoder\n",
    "    if input_shape is None:\n",
    "        input_shape = (28, 28, 1)\n",
    "    if encoded_size is None:\n",
    "        encoded_size = 10\n",
    "    if regularizer is None:\n",
    "        regularizer = regularizers.l1(1e-4)\n",
    "    ae, e, d = simple_convolutional_autoencoder(input_shape)\n",
    "    x = Flatten()(e.outputs)\n",
    "    x = Dense(64, activation='relu')(x)\n",
    "    x = Dropout(.5)(x)\n",
    "    x = Dense(encoded_size, activation='sigmoid', \n",
    "              activity_regularizer=regularizer)(x)\n",
    "    encoded = Dropout(.5)(x)\n",
    "    encoder = Model(e.inputs, encoded)\n",
    "    # Make Decoder\n",
    "    d_input_shape = d.input_shape[1:]\n",
    "    d_input_size = np.prod(d_input_shape)\n",
    "    input_enc = Input(shape=encoder.output_shape[1:])\n",
    "    y = Dense(64, activation='relu')(input_enc)\n",
    "    y = Dropout(.5)(y)\n",
    "    y = Dense(d_input_size, activation='relu')(y)\n",
    "    y = Dropout(.5)(y)\n",
    "    y = Reshape(d_input_shape)(y)\n",
    "    decoder_top = Model(input_enc, y)\n",
    "    decoder = Model(decoder_top.inputs, d(decoder_top.outputs))\n",
    "    # Make Autoencoder\n",
    "    autoencoder = create_autoencoder(encoder,\n",
    "                                     decoder,\n",
    "                                     name='regz_convolutional_ae')\n",
    "    autoencoder.compile(optimizer='adadelta', loss='binary_crossentropy')\n",
    "    return (autoencoder, encoder, decoder)"
   ]
  },
  {
   "cell_type": "code",
   "execution_count": 7,
   "metadata": {
    "collapsed": false
   },
   "outputs": [],
   "source": [
    "input_shape = (28,28,1)\n",
    "sae, senc, sdec = simple_convolutional_autoencoder(input_shape)"
   ]
  },
  {
   "cell_type": "code",
   "execution_count": 8,
   "metadata": {
    "collapsed": false
   },
   "outputs": [],
   "source": [
    "rcae, renc, rdec = regularized_convolutional_autoencoder(input_shape)"
   ]
  },
  {
   "cell_type": "markdown",
   "metadata": {},
   "source": [
    "# Toy example"
   ]
  },
  {
   "cell_type": "code",
   "execution_count": 113,
   "metadata": {
    "collapsed": false
   },
   "outputs": [],
   "source": [
    "my_input = Input(shape=(28,28,1))\n",
    "x = Flatten()(my_input)\n",
    "x = Dense(64, activation='relu')(x)\n",
    "x = Dropout(.5)(x)\n",
    "predicted = Dense(10, activation='softmax', \n",
    "                  activity_regularizer=regularizers.l1(1e-4))(x)\n",
    "pred = Model(my_input, predicted)"
   ]
  },
  {
   "cell_type": "code",
   "execution_count": 78,
   "metadata": {
    "collapsed": false
   },
   "outputs": [],
   "source": [
    "conv_input = Input(shape=(28,28,1))\n",
    "xx = Conv2D(8, (3,3), padding='same', activation='relu')(conv_input)\n",
    "xx = MaxPooling2D(padding='same')(xx)\n",
    "xx = Conv2D(16, (5,5), padding='same', activation='relu')(xx)\n",
    "convcoded = MaxPooling2D(padding='same')(xx)\n",
    "convcoder = Model(conv_input, convcoded)"
   ]
  },
  {
   "cell_type": "code",
   "execution_count": 114,
   "metadata": {
    "collapsed": true
   },
   "outputs": [],
   "source": [
    "pred.compile(optimizer='Adam', loss='categorical_crossentropy', metrics=['acc', 'mae', 'mse'])"
   ]
  },
  {
   "cell_type": "code",
   "execution_count": 11,
   "metadata": {
    "collapsed": true
   },
   "outputs": [],
   "source": [
    "from keras.utils import to_categorical\n",
    "\n",
    "(x_train, y_train), (x_test, y_test) = load_data()\n",
    "\n",
    "yoh_train = to_categorical(y_train, num_classes=10)\n",
    "yoh_test = to_categorical(y_test, num_classes=10)"
   ]
  },
  {
   "cell_type": "code",
   "execution_count": 115,
   "metadata": {
    "collapsed": false,
    "scrolled": true
   },
   "outputs": [
    {
     "name": "stdout",
     "output_type": "stream",
     "text": [
      "Train on 60000 samples, validate on 10000 samples\n",
      "Epoch 1/10\n",
      "60000/60000 [==============================] - 3s - loss: 0.6705 - acc: 0.8037 - mean_absolute_error: 0.0670 - mean_squared_error: 0.0292 - val_loss: 0.2819 - val_acc: 0.9237 - val_mean_absolute_error: 0.0299 - val_mean_squared_error: 0.0119\n",
      "Epoch 2/10\n",
      "60000/60000 [==============================] - 2s - loss: 0.3841 - acc: 0.8919 - mean_absolute_error: 0.0386 - mean_squared_error: 0.0167 - val_loss: 0.2169 - val_acc: 0.9406 - val_mean_absolute_error: 0.0228 - val_mean_squared_error: 0.0092\n",
      "Epoch 3/10\n",
      "60000/60000 [==============================] - 1s - loss: 0.3289 - acc: 0.9082 - mean_absolute_error: 0.0327 - mean_squared_error: 0.0143 - val_loss: 0.1937 - val_acc: 0.9489 - val_mean_absolute_error: 0.0193 - val_mean_squared_error: 0.0082\n",
      "Epoch 4/10\n",
      "60000/60000 [==============================] - 2s - loss: 0.2985 - acc: 0.9151 - mean_absolute_error: 0.0295 - mean_squared_error: 0.0130 - val_loss: 0.1712 - val_acc: 0.9546 - val_mean_absolute_error: 0.0161 - val_mean_squared_error: 0.0072\n",
      "Epoch 5/10\n",
      "60000/60000 [==============================] - 2s - loss: 0.2840 - acc: 0.9194 - mean_absolute_error: 0.0278 - mean_squared_error: 0.0124 - val_loss: 0.1600 - val_acc: 0.9578 - val_mean_absolute_error: 0.0155 - val_mean_squared_error: 0.0066\n",
      "Epoch 6/10\n",
      "60000/60000 [==============================] - 2s - loss: 0.2666 - acc: 0.9252 - mean_absolute_error: 0.0259 - mean_squared_error: 0.0115 - val_loss: 0.1531 - val_acc: 0.9586 - val_mean_absolute_error: 0.0141 - val_mean_squared_error: 0.0064\n",
      "Epoch 7/10\n",
      "60000/60000 [==============================] - 2s - loss: 0.2544 - acc: 0.9284 - mean_absolute_error: 0.0246 - mean_squared_error: 0.0110 - val_loss: 0.1465 - val_acc: 0.9621 - val_mean_absolute_error: 0.0133 - val_mean_squared_error: 0.0060\n",
      "Epoch 8/10\n",
      "60000/60000 [==============================] - 2s - loss: 0.2467 - acc: 0.9295 - mean_absolute_error: 0.0239 - mean_squared_error: 0.0108 - val_loss: 0.1415 - val_acc: 0.9633 - val_mean_absolute_error: 0.0120 - val_mean_squared_error: 0.0058\n",
      "Epoch 9/10\n",
      "60000/60000 [==============================] - 2s - loss: 0.2408 - acc: 0.9322 - mean_absolute_error: 0.0230 - mean_squared_error: 0.0105 - val_loss: 0.1352 - val_acc: 0.9634 - val_mean_absolute_error: 0.0121 - val_mean_squared_error: 0.0056\n",
      "Epoch 10/10\n",
      "60000/60000 [==============================] - 2s - loss: 0.2332 - acc: 0.9330 - mean_absolute_error: 0.0225 - mean_squared_error: 0.0102 - val_loss: 0.1342 - val_acc: 0.9644 - val_mean_absolute_error: 0.0119 - val_mean_squared_error: 0.0055\n"
     ]
    },
    {
     "data": {
      "text/plain": [
       "<keras.callbacks.History at 0x138316588>"
      ]
     },
     "execution_count": 115,
     "metadata": {},
     "output_type": "execute_result"
    }
   ],
   "source": [
    "pred.fit(x_train, yoh_train, batch_size=128, epochs=10, validation_data=(x_test, yoh_test), shuffle=True)"
   ]
  },
  {
   "cell_type": "code",
   "execution_count": 116,
   "metadata": {
    "collapsed": true
   },
   "outputs": [],
   "source": [
    "y_pred = pred.predict(x_test)\n",
    "y_pred_argmax = np.argmax(y_pred, axis=1)"
   ]
  },
  {
   "cell_type": "code",
   "execution_count": 117,
   "metadata": {
    "collapsed": false
   },
   "outputs": [
    {
     "data": {
      "text/plain": [
       "0.96440000000000003"
      ]
     },
     "execution_count": 117,
     "metadata": {},
     "output_type": "execute_result"
    }
   ],
   "source": [
    "from sklearn.metrics import accuracy_score\n",
    "accuracy_score(y_test, y_pred_argmax)"
   ]
  },
  {
   "cell_type": "code",
   "execution_count": 118,
   "metadata": {
    "collapsed": false
   },
   "outputs": [
    {
     "name": "stdout",
     "output_type": "stream",
     "text": [
      " 9376/10000 [===========================>..] - ETA: 0s"
     ]
    },
    {
     "data": {
      "text/plain": [
       "[0.12465356708019971,\n",
       " 0.96440000000000003,\n",
       " 0.011908146022912115,\n",
       " 0.0054969375107437376]"
      ]
     },
     "execution_count": 118,
     "metadata": {},
     "output_type": "execute_result"
    }
   ],
   "source": [
    "pred.evaluate(x_test, yoh_test)"
   ]
  },
  {
   "cell_type": "code",
   "execution_count": 119,
   "metadata": {
    "collapsed": false
   },
   "outputs": [],
   "source": [
    "convpred = Model(conv_input, pred(convcoded))"
   ]
  },
  {
   "cell_type": "code",
   "execution_count": 120,
   "metadata": {
    "collapsed": false,
    "scrolled": true
   },
   "outputs": [],
   "source": [
    "convpred.compile(optimizer='adagrad', loss='categorical_crossentropy', metrics=['acc'])"
   ]
  },
  {
   "cell_type": "code",
   "execution_count": 121,
   "metadata": {
    "collapsed": false
   },
   "outputs": [
    {
     "name": "stdout",
     "output_type": "stream",
     "text": [
      "Train on 60000 samples, validate on 10000 samples\n",
      "Epoch 1/15\n",
      "60000/60000 [==============================] - 22s - loss: 0.2427 - acc: 0.9303 - val_loss: 0.0788 - val_acc: 0.9753\n",
      "Epoch 2/15\n",
      "60000/60000 [==============================] - 21s - loss: 0.1386 - acc: 0.9596 - val_loss: 0.0637 - val_acc: 0.9811\n",
      "Epoch 3/15\n",
      "60000/60000 [==============================] - 22s - loss: 0.1200 - acc: 0.9639 - val_loss: 0.0551 - val_acc: 0.9838\n",
      "Epoch 4/15\n",
      "60000/60000 [==============================] - 22s - loss: 0.1058 - acc: 0.9696 - val_loss: 0.0509 - val_acc: 0.9840\n",
      "Epoch 5/15\n",
      "60000/60000 [==============================] - 22s - loss: 0.0996 - acc: 0.9704 - val_loss: 0.0480 - val_acc: 0.9860\n",
      "Epoch 6/15\n",
      "60000/60000 [==============================] - 22s - loss: 0.0944 - acc: 0.9720 - val_loss: 0.0479 - val_acc: 0.9847\n",
      "Epoch 7/15\n",
      "60000/60000 [==============================] - 22s - loss: 0.0880 - acc: 0.9738 - val_loss: 0.0445 - val_acc: 0.9860\n",
      "Epoch 8/15\n",
      "60000/60000 [==============================] - 22s - loss: 0.0863 - acc: 0.9748 - val_loss: 0.0423 - val_acc: 0.9865\n",
      "Epoch 9/15\n",
      "60000/60000 [==============================] - 22s - loss: 0.0803 - acc: 0.9762 - val_loss: 0.0424 - val_acc: 0.9867\n",
      "Epoch 10/15\n",
      "60000/60000 [==============================] - 22s - loss: 0.0782 - acc: 0.9764 - val_loss: 0.0412 - val_acc: 0.9855\n",
      "Epoch 11/15\n",
      "60000/60000 [==============================] - 22s - loss: 0.0751 - acc: 0.9779 - val_loss: 0.0415 - val_acc: 0.9865\n",
      "Epoch 12/15\n",
      "60000/60000 [==============================] - 22s - loss: 0.0745 - acc: 0.9779 - val_loss: 0.0399 - val_acc: 0.9867\n",
      "Epoch 13/15\n",
      "60000/60000 [==============================] - 22s - loss: 0.0711 - acc: 0.9786 - val_loss: 0.0393 - val_acc: 0.9865\n",
      "Epoch 14/15\n",
      "60000/60000 [==============================] - 22s - loss: 0.0693 - acc: 0.9791 - val_loss: 0.0385 - val_acc: 0.9863\n",
      "Epoch 15/15\n",
      "60000/60000 [==============================] - 23s - loss: 0.0671 - acc: 0.9799 - val_loss: 0.0396 - val_acc: 0.9864\n"
     ]
    },
    {
     "data": {
      "text/plain": [
       "<keras.callbacks.History at 0x1399de0b8>"
      ]
     },
     "execution_count": 121,
     "metadata": {},
     "output_type": "execute_result"
    }
   ],
   "source": [
    "convpred.fit(x_train, yoh_train, batch_size=128, epochs=15, validation_data=(x_test, yoh_test), shuffle=True)"
   ]
  },
  {
   "cell_type": "code",
   "execution_count": 122,
   "metadata": {
    "collapsed": false
   },
   "outputs": [
    {
     "data": {
      "text/plain": [
       "54186"
      ]
     },
     "execution_count": 122,
     "metadata": {},
     "output_type": "execute_result"
    }
   ],
   "source": [
    "convpred.count_params()"
   ]
  },
  {
   "cell_type": "code",
   "execution_count": 123,
   "metadata": {
    "collapsed": false
   },
   "outputs": [
    {
     "name": "stdout",
     "output_type": "stream",
     "text": [
      "_________________________________________________________________\n",
      "Layer (type)                 Output Shape              Param #   \n",
      "=================================================================\n",
      "input_10 (InputLayer)        (None, 28, 28, 1)         0         \n",
      "_________________________________________________________________\n",
      "conv2d_19 (Conv2D)           (None, 28, 28, 8)         80        \n",
      "_________________________________________________________________\n",
      "max_pooling2d_11 (MaxPooling (None, 14, 14, 8)         0         \n",
      "_________________________________________________________________\n",
      "conv2d_20 (Conv2D)           (None, 14, 14, 16)        3216      \n",
      "_________________________________________________________________\n",
      "max_pooling2d_12 (MaxPooling (None, 7, 7, 16)          0         \n",
      "_________________________________________________________________\n",
      "model_23 (Model)             (None, 10)                50890     \n",
      "=================================================================\n",
      "Total params: 54,186.0\n",
      "Trainable params: 54,186.0\n",
      "Non-trainable params: 0.0\n",
      "_________________________________________________________________\n"
     ]
    }
   ],
   "source": [
    "convpred.summary()"
   ]
  },
  {
   "cell_type": "code",
   "execution_count": 124,
   "metadata": {
    "collapsed": false
   },
   "outputs": [
    {
     "name": "stdout",
     "output_type": "stream",
     "text": [
      " 9824/10000 [============================>.] - ETA: 0s"
     ]
    },
    {
     "data": {
      "text/plain": [
       "[0.039587216511651056, 0.98640000000000005]"
      ]
     },
     "execution_count": 124,
     "metadata": {},
     "output_type": "execute_result"
    }
   ],
   "source": [
    "convpred.evaluate(x_test, yoh_test)"
   ]
  },
  {
   "cell_type": "code",
   "execution_count": 125,
   "metadata": {
    "collapsed": false
   },
   "outputs": [],
   "source": [
    "convpred_weights = convpred.get_weights()"
   ]
  },
  {
   "cell_type": "code",
   "execution_count": 126,
   "metadata": {
    "collapsed": true
   },
   "outputs": [],
   "source": [
    "import matplotlib.pyplot as plt\n",
    "%matplotlib inline"
   ]
  },
  {
   "cell_type": "code",
   "execution_count": 127,
   "metadata": {
    "collapsed": false
   },
   "outputs": [
    {
     "data": {
      "text/plain": [
       "8"
      ]
     },
     "execution_count": 127,
     "metadata": {},
     "output_type": "execute_result"
    }
   ],
   "source": [
    "convpred_weights[0].shape[-1]"
   ]
  },
  {
   "cell_type": "code",
   "execution_count": 128,
   "metadata": {
    "collapsed": false
   },
   "outputs": [
    {
     "data": {
      "image/png": "[encoded data removed]",
      "text/plain": [
       "<matplotlib.figure.Figure at 0x139f7df28>"
      ]
     },
     "metadata": {},
     "output_type": "display_data"
    }
   ],
   "source": [
    "n = convpred_weights[0].shape[-1]\n",
    "plt.figure(figsize=(n, 4));\n",
    "for j in range(n):\n",
    "    ax = plt.subplot(2, n/2, j+1)\n",
    "    I = ax.imshow(convpred_weights[0][...,0,j])\n",
    "    plt.gray()\n",
    "    ax.get_xaxis().set_visible(False)\n",
    "    ax.get_yaxis().set_visible(False)"
   ]
  },
  {
   "cell_type": "code",
   "execution_count": 129,
   "metadata": {
    "collapsed": false
   },
   "outputs": [
    {
     "data": {
      "text/plain": [
       "(5, 5, 8, 16)"
      ]
     },
     "execution_count": 129,
     "metadata": {},
     "output_type": "execute_result"
    }
   ],
   "source": [
    "convpred_weights[2].shape"
   ]
  },
  {
   "cell_type": "code",
   "execution_count": 130,
   "metadata": {
    "collapsed": false
   },
   "outputs": [
    {
     "data": {
      "image/png": "[encoded data removed]",
      "text/plain": [
       "<matplotlib.figure.Figure at 0x137746ac8>"
      ]
     },
     "metadata": {},
     "output_type": "display_data"
    }
   ],
   "source": [
    "n1, n2 = convpred_weights[2].shape[-2:]\n",
    "plt.figure(figsize=(n2, n1));\n",
    "for j in range(n1):\n",
    "    for k in range(n2):\n",
    "        ax = plt.subplot(n1, n2, n1*k + j+1)\n",
    "        ax.imshow(convpred_weights[2][..., j,k])\n",
    "        plt.gray()\n",
    "        ax.get_xaxis().set_visible(False)\n",
    "        ax.get_yaxis().set_visible(False)"
   ]
  },
  {
   "cell_type": "code",
   "execution_count": 136,
   "metadata": {
    "collapsed": false
   },
   "outputs": [
    {
     "data": {
      "text/plain": [
       "<matplotlib.colorbar.Colorbar at 0x13a2be240>"
      ]
     },
     "execution_count": 136,
     "metadata": {},
     "output_type": "execute_result"
    },
    {
     "data": {
      "image/png": "[encoded data removed]",
      "text/plain": [
       "<matplotlib.figure.Figure at 0x139fbf6d8>"
      ]
     },
     "metadata": {},
     "output_type": "display_data"
    }
   ],
   "source": [
    "plt.figure(figsize=(16, 4))\n",
    "ax = plt.subplot(1,1,1)\n",
    "I = ax.imshow(np.abs(convpred_weights[6].T))\n",
    "plt.gray()\n",
    "ax.get_xaxis().set_visible(False)\n",
    "ax.get_yaxis().set_visible(False)\n",
    "plt.colorbar(I, extend='neither')"
   ]
  },
  {
   "cell_type": "code",
   "execution_count": 141,
   "metadata": {
    "collapsed": false
   },
   "outputs": [],
   "source": [
    "convpred_json = convpred.to_json()\n",
    "with open('model_json.json', 'w') as fp:\n",
    "    fp.write(convpred_json)"
   ]
  },
  {
   "cell_type": "code",
   "execution_count": 142,
   "metadata": {
    "collapsed": true
   },
   "outputs": [],
   "source": [
    "convpred.history."
   ]
  }
 ],
 "metadata": {
  "kernelspec": {
   "display_name": "Python 3",
   "language": "python",
   "name": "python3"
  },
  "language_info": {
   "codemirror_mode": {
    "name": "ipython",
    "version": 3
   },
   "file_extension": ".py",
   "mimetype": "text/x-python",
   "name": "python",
   "nbconvert_exporter": "python",
   "pygments_lexer": "ipython3",
   "version": "3.5.2"
  },
  "toc": {
   "nav_menu": {
    "height": "30px",
    "width": "252px"
   },
   "navigate_menu": true,
   "number_sections": true,
   "sideBar": true,
   "threshold": 4,
   "toc_cell": true,
   "toc_section_display": "block",
   "toc_window_display": false
  }
 },
 "nbformat": 4,
 "nbformat_minor": 1
}
