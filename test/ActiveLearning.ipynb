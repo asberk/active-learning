{
 "cells": [
  {
   "cell_type": "markdown",
   "metadata": {
    "toc": "true"
   },
   "source": [
    "# Table of Contents\n",
    " <p><div class=\"lev1 toc-item\"><a href=\"#Set-up\" data-toc-modified-id=\"Set-up-1\"><span class=\"toc-item-num\">1&nbsp;&nbsp;</span>Set-up</a></div><div class=\"lev2 toc-item\"><a href=\"#Defining-actions\" data-toc-modified-id=\"Defining-actions-11\"><span class=\"toc-item-num\">1.1&nbsp;&nbsp;</span>Defining actions</a></div><div class=\"lev3 toc-item\"><a href=\"#Ideas-for-how-to-define-the-actions-and-their-associated-losses\" data-toc-modified-id=\"Ideas-for-how-to-define-the-actions-and-their-associated-losses-111\"><span class=\"toc-item-num\">1.1.1&nbsp;&nbsp;</span>Ideas for how to define the actions and their associated losses</a></div>"
   ]
  },
  {
   "cell_type": "markdown",
   "metadata": {
    "collapsed": true
   },
   "source": [
    "# Set-up\n",
    "\n",
    "## Defining actions\n",
    "\n",
    "There are five hazard rating levels:\n",
    "\n",
    "     Hazard Rating Levels: 1,2,3,4,5\n",
    "\n",
    "We will re-scale them\n",
    "\n",
    "     Scaled HRL: 1/4, 2/4, 3/4, 4/4, 5/4\n",
    "\n",
    "and use these to define our loss. We punish our learner's choice of action according to the true label of the example. The set of actions that our learner can take are `{C,1,2,3,4,5}`. The numerical values correspond with predicting the image's label and then querying the user for the true label; the `C` corresponds to choosing an image from the stream. The loss incurred by each action is defined according to the learner's performance on each classification, and is affected by how many choices it makes. \n",
    "\n",
    "    Loss function:\n",
    "    \n",
    "      Actual/  1    2    3    4    5\n",
    "    Predicted\n",
    "          1    0   1/4  1/2  3/4   1\n",
    "          2   1/4   0   1/4  1/2  3/4\n",
    "          3   1/2  1/4   0   1/4  1/2\n",
    "          4   3/4  1/2  1/4  1/2  3/4\n",
    "          5    1   3/4  1/2  3/4   1\n",
    "          C   1/2  1/2  1/2  1/2  1/2"
   ]
  },
  {
   "cell_type": "markdown",
   "metadata": {},
   "source": [
    "### Ideas for how to define the actions and their associated losses\n",
    "\n",
    "Maybe we either need to:\n",
    "* punish the learner for choosing something \"less informative\" \n",
    "* train the learner to select images of one category in batch \n",
    "    * if making a \"choice\" action is penalized, then perhaps the learner would decide to make fewer choice actions by labelling examples in batches."
   ]
  }
 ],
 "metadata": {
  "kernelspec": {
   "display_name": "Python 3",
   "language": "python",
   "name": "python3"
  },
  "language_info": {
   "codemirror_mode": {
    "name": "ipython",
    "version": 3
   },
   "file_extension": ".py",
   "mimetype": "text/x-python",
   "name": "python",
   "nbconvert_exporter": "python",
   "pygments_lexer": "ipython3",
   "version": "3.5.2"
  },
  "toc": {
   "nav_menu": {
    "height": "30px",
    "width": "252px"
   },
   "navigate_menu": true,
   "number_sections": true,
   "sideBar": true,
   "threshold": 4,
   "toc_cell": true,
   "toc_section_display": "block",
   "toc_window_display": false
  }
 },
 "nbformat": 4,
 "nbformat_minor": 1
}
