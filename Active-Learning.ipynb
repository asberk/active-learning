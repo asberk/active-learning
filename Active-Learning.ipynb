{
 "cells": [
  {
   "cell_type": "markdown",
   "metadata": {
    "toc": "true"
   },
   "source": [
    "# Table of Contents\n",
    " <p><div class=\"lev1 toc-item\"><a href=\"#Bandit-Convex-Optimization\" data-toc-modified-id=\"Bandit-Convex-Optimization-1\"><span class=\"toc-item-num\">1&nbsp;&nbsp;</span>Bandit Convex Optimization</a></div>"
   ]
  },
  {
   "cell_type": "markdown",
   "metadata": {},
   "source": [
    "# Bandit Convex Optimization"
   ]
  },
  {
   "cell_type": "code",
   "execution_count": 1,
   "metadata": {
    "collapsed": false
   },
   "outputs": [
    {
     "name": "stdout",
     "output_type": "stream",
     "text": [
      "Populating the interactive namespace from numpy and matplotlib\n"
     ]
    }
   ],
   "source": [
    "%pylab inline"
   ]
  },
  {
   "cell_type": "code",
   "execution_count": 2,
   "metadata": {
    "collapsed": true
   },
   "outputs": [],
   "source": [
    "import scipy.stats as stats"
   ]
  },
  {
   "cell_type": "code",
   "execution_count": 3,
   "metadata": {
    "collapsed": true
   },
   "outputs": [],
   "source": [
    "Ber = stats.bernoulli"
   ]
  },
  {
   "cell_type": "code",
   "execution_count": null,
   "metadata": {
    "collapsed": true
   },
   "outputs": [],
   "source": [
    "def SimpleMultiArmedBandit(n, T, OnlineCOAlgom, delta, init=None):\n",
    "    if init is None:\n",
    "        init = {}\n",
    "    \n",
    "    fHat = np.zeros(T)\n",
    "    x = np.zeros(n, T)\n",
    "    ellHat = np.zeros(n, T)\n",
    "    action_number = np.zeros(T)\n",
    "    observedLoss = np.zeros(T)\n",
    "    \n",
    "    fHat[0] = [init.get('fHat0', 0)]\n",
    "    x[:, 0] = [init.get('x0', np.ones(n) / n)]\n",
    "    ellHat[:, 0] = init.get('ellHat0', np.zeros(n))\n",
    "    \n",
    "    for t in range(T):\n",
    "        if (np.random.rand(1) > delta):\n",
    "            action_number[t] = np.random.randint(n)\n",
    "            observedLoss[t] = score_action(actions[action_number[t]])\n",
    "            ellHat[action_number, t] = n * observedLoss[t] / delta\n",
    "            fHat[t] = np.dot(ellHat[:, t], x[:, t])\n",
    "            x[:, t+1] = OnlineCOAlgom(t, fHat, ellHat, x)\n",
    "        else:\n",
    "            action_number[t] = np.random.choice(np.arange(n), p=x[:,t])\n",
    "            x[:,t+1] = OnlineCOAlgom(t, fHat, ellHat, x)\n",
    "    # return optimal sampling strategy after T iterations\n",
    "    return x[:, -1]"
   ]
  },
  {
   "cell_type": "code",
   "execution_count": null,
   "metadata": {
    "collapsed": true
   },
   "outputs": [],
   "source": []
  }
 ],
 "metadata": {
  "kernelspec": {
   "display_name": "Python 3",
   "language": "python",
   "name": "python3"
  },
  "language_info": {
   "codemirror_mode": {
    "name": "ipython",
    "version": 3
   },
   "file_extension": ".py",
   "mimetype": "text/x-python",
   "name": "python",
   "nbconvert_exporter": "python",
   "pygments_lexer": "ipython3",
   "version": "3.5.2"
  },
  "toc": {
   "nav_menu": {
    "height": "30px",
    "width": "252px"
   },
   "navigate_menu": true,
   "number_sections": true,
   "sideBar": true,
   "threshold": 4,
   "toc_cell": true,
   "toc_section_display": "block",
   "toc_window_display": false
  }
 },
 "nbformat": 4,
 "nbformat_minor": 1
}
